{
 "cells": [
  {
   "cell_type": "markdown",
   "metadata": {},
   "source": [
    "![alt text](title.png \"\")"
   ]
  },
  {
   "cell_type": "markdown",
   "metadata": {},
   "source": [
    "#### The Analysis of India's International Trade will be carried out as follows:\n",
    "<ol><b><li>PySpark Environment Setup</b>\n",
    "<b><li>Data Source and Spark Abstraction Setup</b>\n",
    "<b><li>Metadata Analysis</b>\n",
    "<ul><li>3.1 Display schema and size of data\n",
    "<li>3.2 Get some random samples of the dataset\n",
    "<li>3.3 Data Entities, Metrics & Dimensions\n",
    "<li>3.4 Drop Unnecessary Columns and optimize dataframe</ul>\n",
    "<b><li>Understanding the Data</b>\n",
    "<ul><li>4.1 Basic Profiling of Dataset\n",
    "<li>4.2 Checking for inconsistency in data\n",
    "<li>4.3 Analysing the inconsistency in the data</ul>\n",
    "<b><li>Data Preparation for Analysis</b>\n",
    "<ul><li>5.1 Droppinng the rows with inconsistent data\n",
    "<li>5.2 Rearranging the dataset\n",
    "<li>5.3 Managing the missing values in the rearranged dataframe\n",
    "<li>5.4 Adding a columns for Trade Balance</ul>\n",
    "<b><li>Analysis of India's Interational Trade Data</b>\n",
    "<ul><li>6.1 Trade Indicators\n",
    "<ul><li>a.) Annual Import Value and Change\n",
    "<li>b.) Annual Export Value and Change\n",
    "<li>c.) Annual Trade Balance, Change and Trade Balance Status</ul>\n",
    "<li>6.2 Main Partners\n",
    "<ul><li>d.) Top 5 Sellers Based on % of Imports\n",
    "<li>e.) Top 5 Buyers Based on % of Exports\n",
    "<li>f.) Top 5 Buyers based on number of Commodities Exported\n",
    "<li>g.) Top 5 Suppliers based on number of Commodities Imported\n",
    "<li>h.) Top 5 Buyers with Highest Positive Growth from 2015 to 2020\n",
    "<li>i.) Top 5 Sellers with Highest Negative Growth from 2015 to 2020</ul>\n",
    "<li>6.3 Main Commodities\n",
    "<ul><li>j.) Top 5 Commodities Based on % of Imports\n",
    "<li>k.) Top 5 Commodities Based on % of Exports\n",
    "<li>l.) Top 5 Export Commodities based on number of Buyers\n",
    "<li>m.) Top 5 Import Commodites based on number of Suppliers\n",
    "<li>n.) Top 5 Export Commodities with Highest Positive Growth from 2015 to 2020\n",
    "<li>o.) Top 5 Import Commodities with Highest Negative Growth from 2015 to 2020</ul></ul>\n",
    "<b><li>Visualisation of Analysis<b></ol>\n",
    "\n",
    "<b>Source of Dataset:</b><br>\n",
    "<a href = 'https://data.gov.in/'>Open Government Data (OGD) Platform India</a>"
   ]
  },
  {
   "cell_type": "markdown",
   "metadata": {},
   "source": [
    "# 1. PySpark Environment Setup"
   ]
  },
  {
   "cell_type": "code",
   "execution_count": 27,
   "metadata": {},
   "outputs": [
    {
     "data": {
      "text/markdown": [
       "**The current working directory is:**  /Users/sauravghoshroy/Desktop/IndiaInternationalTrade"
      ],
      "text/plain": [
       "<IPython.core.display.Markdown object>"
      ]
     },
     "metadata": {},
     "output_type": "display_data"
    }
   ],
   "source": [
    "#importing findspark and initialising it\n",
    "import findspark\n",
    "findspark.init()\n",
    "\n",
    "#importing necessary libraries\n",
    "from pyspark.context import SparkContext\n",
    "from pyspark.sql.session import SparkSession\n",
    "from pyspark.sql.functions import *\n",
    "from pyspark.sql.types import *\n",
    "from pyspark.sql.window import *\n",
    "from IPython.display import *\n",
    "from tabulate import *\n",
    "from pandas import *\n",
    "import numpy as np\n",
    "from matplotlib import pyplot as plt\n",
    "from string import digits\n",
    "import os\n",
    "\n",
    "#creating new spark session\n",
    "sc = SparkContext.getOrCreate()\n",
    "spark = SparkSession(sc)\n",
    "\n",
    "#set working directory to the right path\n",
    "os.chdir(\"/Users/sauravghoshroy/Desktop/IndiaInternationalTrade\")\n",
    "\n",
    "#checking current working directory\n",
    "display(Markdown(\"**The current working directory is:**\"+\"  %s\" % os.getcwd()))"
   ]
  },
  {
   "cell_type": "markdown",
   "metadata": {},
   "source": [
    "# 2. Data Source and Spark Abstraction Setup"
   ]
  },
  {
   "cell_type": "code",
   "execution_count": 28,
   "metadata": {},
   "outputs": [],
   "source": [
    "#loading the data from datasource into a spark dataframe\n",
    "df = spark.read \\\n",
    "                 .option(\"inferSchema\", \"true\") \\\n",
    "                 .option(\"header\", \"true\") \\\n",
    "                 .csv(\"*.csv\")"
   ]
  },
  {
   "cell_type": "markdown",
   "metadata": {},
   "source": [
    "# 3. Metadata Analysis\n",
    "## 3.1 Display schema and size of data"
   ]
  },
  {
   "cell_type": "code",
   "execution_count": 29,
   "metadata": {},
   "outputs": [
    {
     "name": "stdout",
     "output_type": "stream",
     "text": [
      "root\n",
      " |-- COMMODITY: string (nullable = true)\n",
      " |-- COUNTRY: string (nullable = true)\n",
      " |-- UNIT: string (nullable = true)\n",
      " |-- QUANTITY: string (nullable = true)\n",
      " |-- VALUE: double (nullable = true)\n",
      " |-- YEAR: integer (nullable = true)\n",
      " |-- TRADE: string (nullable = true)\n",
      "\n"
     ]
    },
    {
     "data": {
      "text/markdown": [
       "The dataframe has **188542** rows and **7** columns."
      ],
      "text/plain": [
       "<IPython.core.display.Markdown object>"
      ]
     },
     "metadata": {},
     "output_type": "display_data"
    }
   ],
   "source": [
    "#getting the dataframe schema\n",
    "df.printSchema()\n",
    "df.count()\n",
    "display(Markdown('The dataframe has **%d** rows' % df.count()+' and **%d** columns.'%(len(df.columns))))"
   ]
  },
  {
   "cell_type": "markdown",
   "metadata": {},
   "source": [
    "## 3.2 Get some random samples of the dataset"
   ]
  },
  {
   "cell_type": "code",
   "execution_count": 30,
   "metadata": {},
   "outputs": [
    {
     "data": {
      "text/markdown": [
       "**Some random samples of the dataset:**<br>[Row(COMMODITY='PACKAGING MATERIALS', COUNTRY='SOUTH AFRICA', UNIT='TON', QUANTITY='2211', VALUE=6.752, YEAR=2019, TRADE='Export'), Row(COMMODITY='PETROLEUM PRODUCTS', COUNTRY='AFGHANISTAN', UNIT='TON', QUANTITY='465', VALUE=0.591, YEAR=2019, TRADE='Export'), Row(COMMODITY='PULSES', COUNTRY='THAILAND', UNIT='TON', QUANTITY='175', VALUE=0.288343, YEAR=2017, TRADE='Export'), Row(COMMODITY='OTHR RUBBER PRODCT EXCPT FOOTW', COUNTRY='SAMOA', UNIT='NA', QUANTITY='NA', VALUE=0.013458, YEAR=2017, TRADE='Export'), Row(COMMODITY='IC ENGINES AND PARTS', COUNTRY='UZBEKISTAN', UNIT='NA', QUANTITY='NA', VALUE=0.183347, YEAR=2017, TRADE='Export'), Row(COMMODITY='RMG MANMADE FIBRES', COUNTRY='BR VIRGN IS', UNIT='NA', QUANTITY='NA', VALUE=0.002915, YEAR=2017, TRADE='Export'), Row(COMMODITY='DRUG FORMULATIONS, BIOLOGICALS', COUNTRY='MOLDOVA', UNIT='KGS', QUANTITY='172359', VALUE=4.309215, YEAR=2015, TRADE='Export'), Row(COMMODITY='PLYWOOD AND ALLIED PRODUCTS', COUNTRY='POLAND', UNIT='NA', QUANTITY='NA', VALUE=6.497877, YEAR=2015, TRADE='Export'), Row(COMMODITY='IC ENGINES AND PARTS', COUNTRY='U S A', UNIT='NA', QUANTITY='NA', VALUE=433.923286, YEAR=2015, TRADE='Export'), Row(COMMODITY='OTHER CONSTRUCTION MACHINERY', COUNTRY='COMOROS', UNIT='NA', QUANTITY='NA', VALUE=0.041111, YEAR=2016, TRADE='Export')]"
      ],
      "text/plain": [
       "<IPython.core.display.Markdown object>"
      ]
     },
     "metadata": {},
     "output_type": "display_data"
    }
   ],
   "source": [
    "#getting some random sample of rows from the dataset\n",
    "display(Markdown(\"**Some random samples of the dataset:**<br>\"+\"%s\" % df.sample(False, .0001).take(10)))"
   ]
  },
  {
   "cell_type": "markdown",
   "metadata": {},
   "source": [
    "## 3.3 Data Entities, Metrics & Dimensions\n",
    "\n",
    "Based on what we see in the random sample we can classify the fields into the following\n",
    "\n",
    "### Data Entities:\n",
    "**1. Commodity:** The class of items being exported or imported<br>\n",
    "**2. Country:** The country with which in India has trade relation (could be export, import or both)<br>\n",
    "**3. Unit:** The unit of quanity of each commodity being imported or exported<br>\n",
    "**4. Quantity:** The amount of quantity being imported and exported<br>\n",
    "**5. Value:** The value of export or import<br>\n",
    "**6. Year:** The year in which the export or import happened<br>\n",
    "**7. Trade:** The type of trade - export or import<br>\n",
    "### Dimension:\n",
    "1. Commodity\n",
    "2. Country\n",
    "3. Year\n",
    "4. Trade\n",
    "\n",
    "### Metrics:\n",
    "1. Units of Quantity\n",
    "2. Value\n",
    "\n",
    "## 3.4 Drop Unnecessary Columns and optimize dataframe\n",
    "Since there is no significant use of the Quantity and Unit columns in our business case analysis, we can drop these columns to reduce our dataset."
   ]
  },
  {
   "cell_type": "code",
   "execution_count": 31,
   "metadata": {},
   "outputs": [],
   "source": [
    "#dropping the two columns we don't need and optimizing the dataframe\n",
    "df = df.drop('quantity','unit').cache()"
   ]
  },
  {
   "cell_type": "markdown",
   "metadata": {},
   "source": [
    "# 4. Understanding the Data\n",
    "\n",
    "## 4.1 Basic Profiling of Dataset"
   ]
  },
  {
   "cell_type": "code",
   "execution_count": 32,
   "metadata": {},
   "outputs": [
    {
     "data": {
      "text/markdown": [
       "**High level summary of dataset:**"
      ],
      "text/plain": [
       "<IPython.core.display.Markdown object>"
      ]
     },
     "metadata": {},
     "output_type": "display_data"
    },
    {
     "name": "stdout",
     "output_type": "stream",
     "text": [
      "+-------+--------------------+-----------+------------------+------------------+------+\n",
      "|summary|           COMMODITY|    COUNTRY|             VALUE|              YEAR| TRADE|\n",
      "+-------+--------------------+-----------+------------------+------------------+------+\n",
      "|  count|              188542|     188542|            188542|            188542|188542|\n",
      "|   mean|                null|       null| 33.93437691450789|2017.5530969227016|  null|\n",
      "| stddev|                null|       null|2063.5234661889795|1.7123699215873034|  null|\n",
      "|    min|AC, REFRIGERATION...|AFGHANISTAN|               0.0|              2015|Export|\n",
      "|    25%|                null|       null|          0.020387|              2016|  null|\n",
      "|    50%|                null|       null|          0.296282|              2018|  null|\n",
      "|    75%|                null|       null|             3.235|              2019|  null|\n",
      "|    max|ZINC AND PRODUCTS...|   ZIMBABWE|        514078.418|              2020|Import|\n",
      "+-------+--------------------+-----------+------------------+------------------+------+\n",
      "\n"
     ]
    }
   ],
   "source": [
    "#getting a highlevel summary of the dataset\n",
    "display(Markdown('**High level summary of dataset:**'))\n",
    "df.summary().show()"
   ]
  },
  {
   "cell_type": "markdown",
   "metadata": {},
   "source": [
    "## 4.2 Checking for inconsistency in data"
   ]
  },
  {
   "cell_type": "code",
   "execution_count": 33,
   "metadata": {},
   "outputs": [
    {
     "data": {
      "text/markdown": [
       "**Column-wise count of *Null* values in the dataset:**"
      ],
      "text/plain": [
       "<IPython.core.display.Markdown object>"
      ]
     },
     "metadata": {},
     "output_type": "display_data"
    },
    {
     "name": "stdout",
     "output_type": "stream",
     "text": [
      "+---------+-------+-----+----+-----+\n",
      "|commodity|country|value|year|trade|\n",
      "+---------+-------+-----+----+-----+\n",
      "|        0|      0|    0|   0|    0|\n",
      "+---------+-------+-----+----+-----+\n",
      "\n"
     ]
    },
    {
     "data": {
      "text/markdown": [
       "**Column-wise count of *NA* values in the dataset:**"
      ],
      "text/plain": [
       "<IPython.core.display.Markdown object>"
      ]
     },
     "metadata": {},
     "output_type": "display_data"
    },
    {
     "name": "stdout",
     "output_type": "stream",
     "text": [
      "+---------+-------+-----+----+-----+\n",
      "|commodity|country|value|year|trade|\n",
      "+---------+-------+-----+----+-----+\n",
      "|        0|      5|    0|   0|    0|\n",
      "+---------+-------+-----+----+-----+\n",
      "\n"
     ]
    },
    {
     "data": {
      "text/markdown": [
       "**Column-wise count of *N. A* values in the dataset:**"
      ],
      "text/plain": [
       "<IPython.core.display.Markdown object>"
      ]
     },
     "metadata": {},
     "output_type": "display_data"
    },
    {
     "name": "stdout",
     "output_type": "stream",
     "text": [
      "+---------+-------+-----+----+-----+\n",
      "|commodity|country|value|year|trade|\n",
      "+---------+-------+-----+----+-----+\n",
      "|        0|      0|    0|   0|    0|\n",
      "+---------+-------+-----+----+-----+\n",
      "\n"
     ]
    },
    {
     "data": {
      "text/markdown": [
       "**Column-wise count of *N/A* values in the dataset:**"
      ],
      "text/plain": [
       "<IPython.core.display.Markdown object>"
      ]
     },
     "metadata": {},
     "output_type": "display_data"
    },
    {
     "name": "stdout",
     "output_type": "stream",
     "text": [
      "+---------+-------+-----+----+-----+\n",
      "|commodity|country|value|year|trade|\n",
      "+---------+-------+-----+----+-----+\n",
      "|        0|      0|    0|   0|    0|\n",
      "+---------+-------+-----+----+-----+\n",
      "\n"
     ]
    }
   ],
   "source": [
    "#checking for Null values in each of the columns of the dataframe\n",
    "display(Markdown('**Column-wise count of *Null* values in the dataset:**'))\n",
    "df.select([count(when(col(c).isNull(), c)).alias(c) for c in [\"commodity\",\"country\",'value',\"year\", \"trade\"]]).show()\n",
    "\n",
    "#checking for NA values in each of the columns of the dataframe\n",
    "display(Markdown('**Column-wise count of *NA* values in the dataset:**'))\n",
    "df.select([count(when(col(c)=='NA', c)).alias(c) for c in [\"commodity\",\"country\",'value',\"year\", \"trade\"]]).show()\n",
    "\n",
    "#checking for N. A values in each of the columns of the dataframe\n",
    "display(Markdown('**Column-wise count of *N. A* values in the dataset:**'))\n",
    "df.select([count(when(col(c)=='N. A', c)).alias(c) for c in [\"commodity\",\"country\",'value',\"year\", \"trade\"]]).show()\n",
    "\n",
    "#checking for N/A values in each of the columns of the dataframe\n",
    "display(Markdown('**Column-wise count of *N/A* values in the dataset:**'))\n",
    "df.select([count(when(col(c)=='N/A', c)).alias(c) for c in [\"commodity\",\"country\",'value',\"year\", \"trade\"]]).show()"
   ]
  },
  {
   "cell_type": "markdown",
   "metadata": {},
   "source": [
    "The **country** column has **5** NA values. We will analyse the inconsistencies to find a way to manage them.\n",
    "## 4.3 Analysing the inconsistency in the data"
   ]
  },
  {
   "cell_type": "code",
   "execution_count": 34,
   "metadata": {},
   "outputs": [
    {
     "data": {
      "text/markdown": [
       "**Analysis of inconsistency in the data:**"
      ],
      "text/plain": [
       "<IPython.core.display.Markdown object>"
      ]
     },
     "metadata": {},
     "output_type": "display_data"
    },
    {
     "name": "stdout",
     "output_type": "stream",
     "text": [
      "+---------+-------+----------+----+------+\n",
      "|COMMODITY|COUNTRY|     VALUE|YEAR| TRADE|\n",
      "+---------+-------+----------+----+------+\n",
      "|    Total|     NA|330078.093|2019|Export|\n",
      "|    Total|     NA| 313361.04|2020|Export|\n",
      "|    Total|     NA| 303523.19|2018|Export|\n",
      "|    Total|     NA|514078.418|2019|Import|\n",
      "|    Total|     NA| 474709.28|2020|Import|\n",
      "+---------+-------+----------+----+------+\n",
      "\n"
     ]
    }
   ],
   "source": [
    "#extracting rows from the dataframe that have NA values\n",
    "display(Markdown('**Analysis of inconsistency in the data:**'))\n",
    "df.where(col('country')=='NA').show()"
   ]
  },
  {
   "cell_type": "markdown",
   "metadata": {},
   "source": [
    "It is evident from the previous output that the NA values in the country column come from the total rows of the yearly data. Since we don't need these rows in the analysis of our business case, it is safe to drop them."
   ]
  },
  {
   "cell_type": "markdown",
   "metadata": {},
   "source": [
    "# 5. Data Preparation for Analysis\n",
    "## 5.1 Droppinng the rows with inconsistent data"
   ]
  },
  {
   "cell_type": "code",
   "execution_count": 35,
   "metadata": {},
   "outputs": [
    {
     "data": {
      "text/markdown": [
       "**Count of NA in the country column reduced to 0:**"
      ],
      "text/plain": [
       "<IPython.core.display.Markdown object>"
      ]
     },
     "metadata": {},
     "output_type": "display_data"
    },
    {
     "name": "stdout",
     "output_type": "stream",
     "text": [
      "+---------+-------+-----+----+-----+\n",
      "|commodity|country|value|year|trade|\n",
      "+---------+-------+-----+----+-----+\n",
      "|        0|      0|    0|   0|    0|\n",
      "+---------+-------+-----+----+-----+\n",
      "\n"
     ]
    },
    {
     "data": {
      "text/markdown": [
       "Our dataframe now has **188537** rows, **5** less than the original dataframe."
      ],
      "text/plain": [
       "<IPython.core.display.Markdown object>"
      ]
     },
     "metadata": {},
     "output_type": "display_data"
    }
   ],
   "source": [
    "#dropping the 5 rows with NA values\n",
    "df = df.where(df['country']!='NA').cache()\n",
    "\n",
    "#rechecking each row of the dataframe for NA values\n",
    "display(Markdown('**Count of NA in the country column reduced to 0:**'))\n",
    "df.select([count(when(col(c) == 'NA', c)).alias(c) for c in [\"commodity\",\"country\",'value',\"year\",\"trade\"]]).show()\n",
    "\n",
    "#getting a count of rows of the dataframe\n",
    "display(Markdown('Our dataframe now has **%d** rows, **5** less than the original dataframe.' % df.count()))"
   ]
  },
  {
   "cell_type": "markdown",
   "metadata": {},
   "source": [
    "## 5.2 Rearranging the dataset\n",
    "### Breaking the original dataframe into interim dataframes : export_data and import_data"
   ]
  },
  {
   "cell_type": "code",
   "execution_count": 36,
   "metadata": {},
   "outputs": [
    {
     "data": {
      "text/markdown": [
       "**Dataframe containing all exports data:**"
      ],
      "text/plain": [
       "<IPython.core.display.Markdown object>"
      ]
     },
     "metadata": {},
     "output_type": "display_data"
    },
    {
     "name": "stdout",
     "output_type": "stream",
     "text": [
      "+---------+-------------+------------+----+------+\n",
      "|commodity|      country|export value|year| trade|\n",
      "+---------+-------------+------------+----+------+\n",
      "|      TEA|  AFGHANISTAN|       1.625|2019|Export|\n",
      "|      TEA|      ALBANIA|       1.177|2019|Export|\n",
      "|      TEA|      ALGERIA|         0.1|2019|Export|\n",
      "|      TEA|      ANDORRA|       0.001|2019|Export|\n",
      "|      TEA|       ANGOLA|       0.688|2019|Export|\n",
      "|      TEA|      ARMENIA|       0.002|2019|Export|\n",
      "|      TEA|    AUSTRALIA|       16.74|2019|Export|\n",
      "|      TEA|      AUSTRIA|       0.105|2019|Export|\n",
      "|      TEA|   AZERBAIJAN|       0.803|2019|Export|\n",
      "|      TEA|  BAHARAIN IS|        2.25|2019|Export|\n",
      "|      TEA|BANGLADESH PR|       7.433|2019|Export|\n",
      "|      TEA|      BELARUS|       0.055|2019|Export|\n",
      "|      TEA|      BELGIUM|       3.798|2019|Export|\n",
      "|      TEA|        BENIN|       0.274|2019|Export|\n",
      "|      TEA|       BHUTAN|       1.214|2019|Export|\n",
      "|      TEA|     BOTSWANA|       0.004|2019|Export|\n",
      "|      TEA|       BRAZIL|       0.093|2019|Export|\n",
      "|      TEA|       BRUNEI|       0.015|2019|Export|\n",
      "|      TEA|     BULGARIA|        0.01|2019|Export|\n",
      "|      TEA| BURKINA FASO|       3.379|2019|Export|\n",
      "+---------+-------------+------------+----+------+\n",
      "only showing top 20 rows\n",
      "\n"
     ]
    },
    {
     "data": {
      "text/markdown": [
       "**Dataframe containing all imports data:**"
      ],
      "text/plain": [
       "<IPython.core.display.Markdown object>"
      ]
     },
     "metadata": {},
     "output_type": "display_data"
    },
    {
     "name": "stdout",
     "output_type": "stream",
     "text": [
      "+---------+--------------+------------+----+------+\n",
      "|commodity|       country|import value|year| trade|\n",
      "+---------+--------------+------------+----+------+\n",
      "|      TEA|     ARGENTINA|       1.415|2019|Import|\n",
      "|      TEA|     AUSTRALIA|       0.001|2019|Import|\n",
      "|      TEA|   BAHARAIN IS|       0.006|2019|Import|\n",
      "|      TEA|        BRAZIL|       0.014|2019|Import|\n",
      "|      TEA|    CHINA P RP|       2.824|2019|Import|\n",
      "|      TEA|       CROATIA|       0.021|2019|Import|\n",
      "|      TEA|        CYPRUS|         0.0|2019|Import|\n",
      "|      TEA|CZECH REPUBLIC|       0.051|2019|Import|\n",
      "|      TEA|      ETHIOPIA|         0.0|2019|Import|\n",
      "|      TEA|        FRANCE|       0.008|2019|Import|\n",
      "|      TEA|       GERMANY|        0.34|2019|Import|\n",
      "|      TEA|     HONG KONG|        0.01|2019|Import|\n",
      "|      TEA|     INDONESIA|       1.252|2019|Import|\n",
      "|      TEA|          IRAN|        3.76|2019|Import|\n",
      "|      TEA|         ITALY|       0.022|2019|Import|\n",
      "|      TEA|         JAPAN|        0.26|2019|Import|\n",
      "|      TEA|         KENYA|       6.385|2019|Import|\n",
      "|      TEA|      KOREA RP|       0.019|2019|Import|\n",
      "|      TEA|        KUWAIT|       0.015|2019|Import|\n",
      "|      TEA|        MALAWI|       1.025|2019|Import|\n",
      "+---------+--------------+------------+----+------+\n",
      "only showing top 20 rows\n",
      "\n"
     ]
    },
    {
     "data": {
      "text/markdown": [
       "The export_data dataframe has **128397** rows and the import_data dataframe has **60140** rows."
      ],
      "text/plain": [
       "<IPython.core.display.Markdown object>"
      ]
     },
     "metadata": {},
     "output_type": "display_data"
    },
    {
     "data": {
      "text/markdown": [
       "**The number of unique values in each column of the export_data dataframe:**"
      ],
      "text/plain": [
       "<IPython.core.display.Markdown object>"
      ]
     },
     "metadata": {},
     "output_type": "display_data"
    },
    {
     "name": "stdout",
     "output_type": "stream",
     "text": [
      "+---------+-------+------------+----+-----+\n",
      "|commodity|country|export value|year|trade|\n",
      "+---------+-------+------------+----+-----+\n",
      "|      168|    248|       67244|   6|    1|\n",
      "+---------+-------+------------+----+-----+\n",
      "\n"
     ]
    },
    {
     "data": {
      "text/markdown": [
       "**The number of unique values in each column of the import_data dataframe:**"
      ],
      "text/plain": [
       "<IPython.core.display.Markdown object>"
      ]
     },
     "metadata": {},
     "output_type": "display_data"
    },
    {
     "name": "stdout",
     "output_type": "stream",
     "text": [
      "+---------+-------+------------+----+-----+\n",
      "|commodity|country|import value|year|trade|\n",
      "+---------+-------+------------+----+-----+\n",
      "|      166|    240|       34624|   6|    1|\n",
      "+---------+-------+------------+----+-----+\n",
      "\n"
     ]
    }
   ],
   "source": [
    "#creating the export_data dataframe\n",
    "export_data = df.where(col('trade')=='Export')\\\n",
    "                .withColumn('export value', col('value'))\\\n",
    "                .select('commodity','country','export value', 'year', 'trade').cache()\n",
    "display(Markdown('**Dataframe containing all exports data:**'))\n",
    "export_data.show()\n",
    "ex_row = export_data.count() #storing the number of rows in export_data into a variable\n",
    "\n",
    "#creating the import_data dataframe\n",
    "import_data = df.where(col('trade')=='Import')\\\n",
    "                .withColumn('import value', col('VALUE'))\\\n",
    "                .select('commodity','country','import value', 'year', 'trade').cache()\n",
    "display(Markdown('**Dataframe containing all imports data:**'))\n",
    "import_data.show()\n",
    "im_row = import_data.count() #storing the number of rows in import_data into a variable\n",
    "\n",
    "display(Markdown(\"The export_data dataframe has **%d** \"% ex_row+\\\n",
    "                 \"rows and the import_data dataframe has **%d** rows.\" % im_row))\n",
    "\n",
    "#getting the number of unique value in each row of the two interim dataframe\n",
    "display(Markdown(\"**The number of unique values in each column of the export_data dataframe:**\"))\n",
    "export_data.select([countDistinct(c).alias(c) for c in ['commodity','country','export value', 'year', 'trade']]).show()\n",
    "display(Markdown(\"**The number of unique values in each column of the import_data dataframe:**\"))\n",
    "import_data.select([countDistinct(c).alias(c) for c in ['commodity','country','import value', 'year', 'trade']]).show()"
   ]
  },
  {
   "cell_type": "markdown",
   "metadata": {},
   "source": [
    "Since there are inconsistencies in the number of unique values in the ***commodity*** & ***country*** columns of the two dataframes, when we join them we will end up having missing values in the ***export value*** and ***import value*** columns of the combined data frame.\n",
    "\n",
    "However, it can be said that the number of countries in the ***export_data*** frame is higher than the number of countries in the ***import_data*** dataframe because India exports to more number of countries than they import from. The same reasoning also explains the inconsistency in the number of unique values in the ***commodity*** columns of the two dataframes - India exports more commodity items than they import.\n",
    "\n",
    "Therefore, it is safe to replace the missing values with 0 in the combined dataframe.\n",
    "\n",
    "### Joining the two interim dataframes"
   ]
  },
  {
   "cell_type": "code",
   "execution_count": 37,
   "metadata": {},
   "outputs": [
    {
     "data": {
      "text/markdown": [
       "**Combined dataframe containing International trade values in the desired form:**"
      ],
      "text/plain": [
       "<IPython.core.display.Markdown object>"
      ]
     },
     "metadata": {},
     "output_type": "display_data"
    },
    {
     "name": "stdout",
     "output_type": "stream",
     "text": [
      "+---------------+----+------------------------------+------------+------------+\n",
      "|country        |year|commodity                     |export value|import value|\n",
      "+---------------+----+------------------------------+------------+------------+\n",
      "|BELGIUM        |2020|AC, REFRIGERATION MACHNRY ETC |9.39        |63.33       |\n",
      "|C AFRI REP     |2019|AC, REFRIGERATION MACHNRY ETC |0.001       |null        |\n",
      "|NEW CALEDONIA  |2016|AC, REFRIGERATION MACHNRY ETC |0.026963    |null        |\n",
      "|RWANDA         |2018|AC, REFRIGERATION MACHNRY ETC |0.27        |null        |\n",
      "|SYRIA          |2016|AC, REFRIGERATION MACHNRY ETC |0.282179    |null        |\n",
      "|AFGHANISTAN    |2015|ACCUMULATORS AND BATTERIES    |0.456896    |null        |\n",
      "|AFGHANISTAN    |2016|ACCUMULATORS AND BATTERIES    |0.561552    |null        |\n",
      "|CANADA         |2016|ACCUMULATORS AND BATTERIES    |0.497739    |0.179973    |\n",
      "|NETHERLAND     |2019|ACCUMULATORS AND BATTERIES    |0.571       |2.027       |\n",
      "|SLOVENIA       |2020|ACCUMULATORS AND BATTERIES    |0.38        |0.08        |\n",
      "|ST LUCIA       |2020|ACCUMULATORS AND BATTERIES    |null        |0.02        |\n",
      "|BANGLADESH PR  |2015|AGRO CHEMICALS                |47.148404   |null        |\n",
      "|EGYPT A RP     |2015|AGRO CHEMICALS                |23.970682   |null        |\n",
      "|MOZAMBIQUE     |2020|AGRO CHEMICALS                |1.77        |null        |\n",
      "|NAMIBIA        |2020|AGRO CHEMICALS                |0.81        |null        |\n",
      "|VIETNAM SOC REP|2016|AGRO CHEMICALS                |50.253626   |0.341732    |\n",
      "|CANADA         |2018|AIRCRAFT, SPACECRAFT AND PARTS|12.93       |329.87      |\n",
      "|FR GUIANA      |2015|AIRCRAFT, SPACECRAFT AND PARTS|57.289455   |0.028544    |\n",
      "|PHILIPPINES    |2016|AIRCRAFT, SPACECRAFT AND PARTS|5.896656    |0.140776    |\n",
      "|AFGHANISTAN    |2016|ALCOHOLIC BEVERAGES           |0.015495    |null        |\n",
      "+---------------+----+------------------------------+------------+------------+\n",
      "only showing top 20 rows\n",
      "\n"
     ]
    }
   ],
   "source": [
    "#displaying the joined dataframe\n",
    "display(Markdown(\"**Combined dataframe containing International trade values in the desired form:**\"))\n",
    "\n",
    "#joining the two interim dataframes to get a combined dataframe\n",
    "india_trade = export_data.join(import_data, ['commodity','country','year'], 'outer')\\\n",
    "                         .select('country','year','commodity', 'export value', 'import value')\\\n",
    "                         .cache()   \n",
    "india_trade.show(truncate=False)"
   ]
  },
  {
   "cell_type": "markdown",
   "metadata": {},
   "source": [
    "## 5.3 Managing the missing values in the rearranged dataframe"
   ]
  },
  {
   "cell_type": "code",
   "execution_count": 38,
   "metadata": {},
   "outputs": [
    {
     "data": {
      "text/markdown": [
       "**Number of missing values in each column of the india_trade dataframe:**"
      ],
      "text/plain": [
       "<IPython.core.display.Markdown object>"
      ]
     },
     "metadata": {},
     "output_type": "display_data"
    },
    {
     "name": "stdout",
     "output_type": "stream",
     "text": [
      "+---------+-------+------------+------------+----+\n",
      "|commodity|country|export value|import value|year|\n",
      "+---------+-------+------------+------------+----+\n",
      "|        0|      0|        7012|       75269|   0|\n",
      "+---------+-------+------------+------------+----+\n",
      "\n"
     ]
    }
   ],
   "source": [
    "#getting the number of missing in each column of the combined dataframe\n",
    "display(Markdown(\"**Number of missing values in each column of the india_trade dataframe:**\"))\n",
    "india_trade.select([count(when(col(c).isNull(), c)).alias(c) for c in [\"commodity\",\"country\",'export value',\\\n",
    "                                                                         'import value',\"year\"]]).show()"
   ]
  },
  {
   "cell_type": "code",
   "execution_count": 39,
   "metadata": {},
   "outputs": [
    {
     "data": {
      "text/markdown": [
       "Since missing values are only in the ***export value*** and ***import value***                  columns, we will replace them with 0."
      ],
      "text/plain": [
       "<IPython.core.display.Markdown object>"
      ]
     },
     "metadata": {},
     "output_type": "display_data"
    },
    {
     "data": {
      "text/markdown": [
       "**Number of missing values in each column of the rearranged dataframe:**"
      ],
      "text/plain": [
       "<IPython.core.display.Markdown object>"
      ]
     },
     "metadata": {},
     "output_type": "display_data"
    },
    {
     "name": "stdout",
     "output_type": "stream",
     "text": [
      "+---------+-------+------------+------------+----+\n",
      "|commodity|country|export value|import value|year|\n",
      "+---------+-------+------------+------------+----+\n",
      "|        0|      0|           0|           0|   0|\n",
      "+---------+-------+------------+------------+----+\n",
      "\n"
     ]
    }
   ],
   "source": [
    "display(Markdown(\"Since missing values are only in the ***export value*** and ***import value***\\\n",
    "                  columns, we will replace them with 0.\"))\n",
    "\n",
    "#replacing missing values with 0\n",
    "india_trade = india_trade.na.fill(0).cache()\n",
    "\n",
    "#ensuring the rearranged dataframe does not have any missing values in any of the columns\n",
    "display(Markdown(\"**Number of missing values in each column of the rearranged dataframe:**\"))\n",
    "india_trade.select([count(when(col(c).isNull(), c)).alias(c) for c in [\"commodity\",\"country\",'export value',\\\n",
    "                                                                         'import value',\"year\"]]).show()"
   ]
  },
  {
   "cell_type": "markdown",
   "metadata": {},
   "source": [
    "## 5.4 Adding a columns for Trade Balance\n",
    "To answer our business questions, we need India's trade balance for each commodity item with each country in every year. We get this by adding a new column ***trade balance*** containing results we get by subtracting ***import value*** from corresponding ***export value*** in the india_trade dataframe."
   ]
  },
  {
   "cell_type": "code",
   "execution_count": 40,
   "metadata": {},
   "outputs": [
    {
     "data": {
      "text/markdown": [
       "**View of final rearranged dataframe with <u>*trade balance*</u> values:**"
      ],
      "text/plain": [
       "<IPython.core.display.Markdown object>"
      ]
     },
     "metadata": {},
     "output_type": "display_data"
    },
    {
     "name": "stdout",
     "output_type": "stream",
     "text": [
      "+---------------+----+------------------------------+------------+------------+-------------+\n",
      "|country        |year|commodity                     |export value|import value|trade balance|\n",
      "+---------------+----+------------------------------+------------+------------+-------------+\n",
      "|BELGIUM        |2020|AC, REFRIGERATION MACHNRY ETC |9.39        |63.33       |-53.94       |\n",
      "|C AFRI REP     |2019|AC, REFRIGERATION MACHNRY ETC |0.001       |0.0         |0.001        |\n",
      "|NEW CALEDONIA  |2016|AC, REFRIGERATION MACHNRY ETC |0.026963    |0.0         |0.027        |\n",
      "|RWANDA         |2018|AC, REFRIGERATION MACHNRY ETC |0.27        |0.0         |0.27         |\n",
      "|SYRIA          |2016|AC, REFRIGERATION MACHNRY ETC |0.282179    |0.0         |0.282        |\n",
      "|AFGHANISTAN    |2015|ACCUMULATORS AND BATTERIES    |0.456896    |0.0         |0.457        |\n",
      "|AFGHANISTAN    |2016|ACCUMULATORS AND BATTERIES    |0.561552    |0.0         |0.562        |\n",
      "|CANADA         |2016|ACCUMULATORS AND BATTERIES    |0.497739    |0.179973    |0.318        |\n",
      "|NETHERLAND     |2019|ACCUMULATORS AND BATTERIES    |0.571       |2.027       |-1.456       |\n",
      "|SLOVENIA       |2020|ACCUMULATORS AND BATTERIES    |0.38        |0.08        |0.3          |\n",
      "|ST LUCIA       |2020|ACCUMULATORS AND BATTERIES    |0.0         |0.02        |-0.02        |\n",
      "|BANGLADESH PR  |2015|AGRO CHEMICALS                |47.148404   |0.0         |47.148       |\n",
      "|EGYPT A RP     |2015|AGRO CHEMICALS                |23.970682   |0.0         |23.971       |\n",
      "|MOZAMBIQUE     |2020|AGRO CHEMICALS                |1.77        |0.0         |1.77         |\n",
      "|NAMIBIA        |2020|AGRO CHEMICALS                |0.81        |0.0         |0.81         |\n",
      "|VIETNAM SOC REP|2016|AGRO CHEMICALS                |50.253626   |0.341732    |49.912       |\n",
      "|CANADA         |2018|AIRCRAFT, SPACECRAFT AND PARTS|12.93       |329.87      |-316.94      |\n",
      "|FR GUIANA      |2015|AIRCRAFT, SPACECRAFT AND PARTS|57.289455   |0.028544    |57.261       |\n",
      "|PHILIPPINES    |2016|AIRCRAFT, SPACECRAFT AND PARTS|5.896656    |0.140776    |5.756        |\n",
      "|AFGHANISTAN    |2016|ALCOHOLIC BEVERAGES           |0.015495    |0.0         |0.015        |\n",
      "+---------------+----+------------------------------+------------+------------+-------------+\n",
      "only showing top 20 rows\n",
      "\n"
     ]
    },
    {
     "data": {
      "text/markdown": [
       "The dataframe has **135409** rows, which is a lot lesser than the total number                  of rows in our original dataframe."
      ],
      "text/plain": [
       "<IPython.core.display.Markdown object>"
      ]
     },
     "metadata": {},
     "output_type": "display_data"
    }
   ],
   "source": [
    "#creating the trade balance column\n",
    "display(Markdown(\"**View of final rearranged dataframe with <u>*trade balance*</u> values:**\"))\n",
    "india_trade = india_trade.select('country','year','commodity','export value','import value')\\\n",
    "                         .withColumn('trade balance', round(col('export value')-col('import value'),3))\\\n",
    "                         .cache()\n",
    "india_trade.show(truncate = False)\n",
    "\n",
    "display(Markdown(\"The dataframe has **%d** rows, which is a lot lesser than the total number \\\n",
    "                 of rows in our original dataframe.\"\\\n",
    "                 % india_trade.count()))"
   ]
  },
  {
   "cell_type": "markdown",
   "metadata": {},
   "source": [
    "Now that we have our rearranged dataframe, we are ready to begin our analysis."
   ]
  },
  {
   "cell_type": "markdown",
   "metadata": {},
   "source": [
    "# 6. Exploratory Data Analysis of India's Interational Trade Data\n",
    "## 6.1 Defining functions needed for the analysy\n",
    "Since we will be using the same bundle of code with different variables multiple times, it is better to define functions that can be used repeatedly.\n",
    "\n",
    "**For our given analysis we will define 4 functions to compute:**\n",
    "1. Totals of and change in import value, export value and trade balance by year\n",
    "2. Top 5 countries/commodities based on % of total export/import value by year\n",
    "3. Top 5 countries/commodities based on number of import/export trades by year\n",
    "4. Top 5 countries/commodities based on maximum positive/negative growth of export/import values by year\n"
   ]
  },
  {
   "cell_type": "code",
   "execution_count": 41,
   "metadata": {},
   "outputs": [],
   "source": [
    "#total number of trading countries/commodities by year\n",
    "def count_x(df, column, typ = None, year=None): #if typ is mentioned computation will be done only for that\n",
    "                                                #if year parameter is mentioned, computation will done only for that year\n",
    "    alias1 = 'number of sellers' if column == 'country' else 'number of commodities bought'\n",
    "    alias2 = 'number of buyers' if column == 'country' else 'number of commodities sold'\n",
    "    alias3 = 'number of trade partners' if column == 'country' else 'number of commodities traded'\n",
    "    a = df.where(col('import value')>0)\\\n",
    "          .groupBy('year')\\\n",
    "          .agg(countDistinct(column).alias(alias1))\\\n",
    "          .orderBy('year').cache()\n",
    "    b = df.where(col('export value')>0)\\\n",
    "          .groupBy('year')\\\n",
    "          .agg(countDistinct(column).alias(alias2))\\\n",
    "          .orderBy('year').cache()\n",
    "    c = india_trade.groupBy('year')\\\n",
    "                   .agg(countDistinct(column).alias(alias3))\\\n",
    "                   .orderBy('year').cache()\n",
    "    if typ == None:\n",
    "        result = c.join(a, ['year'],'outer')\\\n",
    "                  .join(b, ['year'],'outer')\\\n",
    "                  .orderBy('year')\n",
    "    elif typ == 'import':\n",
    "        result = a\n",
    "    elif typ == 'export':\n",
    "        result = b\n",
    "    elif typ == 'all':\n",
    "        result = c\n",
    "    if year == None:\n",
    "        result = result.toPandas().set_index('year')\n",
    "    else:\n",
    "        result = result.where(col(column)==year)\\\n",
    "                       .toPandas().set_index('year')\n",
    "    return(result)\n",
    "\n",
    "#Totals of and change in import value, export value or trade balance by year\n",
    "def total_and_growth(df, column1, column2,year=None): #if year parameter is mentioned,\n",
    "                                                      #computation will done only for that year\n",
    "    growth = 'growth in'+' '+column2\n",
    "    percentage_growth = '%'+' '+ growth\n",
    "    percent = '% of total '+ column2\n",
    "    growth_window = Window.partitionBy().orderBy(column1)  \n",
    "    result = df.groupBy(column1)\\\n",
    "               .agg(round(sum(column2),3).alias(column2))\\\n",
    "               .cache()\n",
    "    b = result.agg(sum(column2)).first()[0] \n",
    "    check = udf(lambda y: 'deficit' if y < 0 else 'surplus')\n",
    "    result = result.select(column1, column2)\\\n",
    "                   .withColumn(percent,round(col(column2)/b*100,3))\\\n",
    "                   .withColumn('y', lag(column2).over(growth_window))\\\n",
    "                   .withColumn(growth, round(col(column2)-col('y'),3))\\\n",
    "                   .withColumn(percentage_growth,\\\n",
    "                               round(col(growth)/abs(col('y'))*100,3))\\\n",
    "                   .select(column1,column2,growth,percentage_growth)\\\n",
    "                   .cache()\n",
    "    if year == None:\n",
    "        result = result\n",
    "    else:\n",
    "        result = result.where(col(column1)==year)\n",
    "    if column2 == 'trade balance':\n",
    "        result = result.withColumn(\"deficit/surplus\",check(column2))\\\n",
    "                       .toPandas().set_index(column1)\n",
    "    else:\n",
    "        result = result.toPandas().set_index(column1)\n",
    "    return result\n",
    "\n",
    "#Top 5 countries/commodities based on export/import value by year\n",
    "def top_by_value(df,column1,column2,column3,n,year=None): #if year parameter is mentioned,\n",
    "                                                      #computation will done only for that year\n",
    "    contribution = '% of total '+column3.split()[0]\n",
    "    alias = column2+' of '+column3.split()[0]\n",
    "    w = Window.partitionBy(column1).orderBy(col(column3).desc())\n",
    "    y = Window.partitionBy(column1).orderBy(col(column1))\n",
    "    change_window = Window.partitionBy().orderBy(column1)\n",
    "    result = df.groupBy(column1,column2)\\\n",
    "               .agg(sum(column3).alias(column3))\\\n",
    "               .withColumn(\"rn\", row_number().over(w))\\\n",
    "               .withColumn('total', sum(column3).over(y))\\\n",
    "               .withColumn(contribution,round(col(column3)/col('total')*100,3))\\\n",
    "               .where(col('rn')<= n)\\\n",
    "               .cache()\\\n",
    "               .groupBy(column1)\\\n",
    "               .pivot('rn')\\\n",
    "               .agg(first(column2).alias(alias),first(contribution).alias(contribution))\\\n",
    "               .orderBy(column1)\\\n",
    "               .cache()\n",
    "    l = result.columns\n",
    "    cols = [c.replace(r'_',') ').strip() for c in l]\n",
    "    if year == None:\n",
    "        result = result.toDF(*cols)\\\n",
    "                       .toPandas().set_index(column1)\n",
    "    else:\n",
    "        result = result.where(col(column1)==year).toDF(*cols)\\\n",
    "                                                 .toPandas().set_index(column1)\n",
    "    return result\n",
    "\n",
    "#Top 5 countries/commodities based on number of import/export trades by year\n",
    "def top_by_count(df,column1,column2,column3,n,year=None): #if year parameter is mentioned,\n",
    "                                                      #computation will done only for that yeara\n",
    "    alias = 'number of countries traded with' if column2 == 'commodity' else\\\n",
    "            'number of commodities exported'if column2 == 'country' and column3 == 'export value' else\\\n",
    "            'number of commodities imported'\n",
    "    w = Window.partitionBy(column1).orderBy(col(alias).desc())\n",
    "    result = df.where(col(column3)>0)\\\n",
    "                .groupBy(column1, column2)\\\n",
    "                .agg(count(col(column2)).alias(alias))\\\n",
    "                .orderBy(col(column1).desc(), col(alias).desc())\\\n",
    "                .withColumn(\"rn\", row_number().over(w))\\\n",
    "                .where(col('rn')<=n)\\\n",
    "                .cache()\\\n",
    "                .groupBy(column1)\\\n",
    "                .pivot('rn')\\\n",
    "                .agg(first(column2).alias(column2),first(alias).alias(alias))\\\n",
    "                .orderBy(column1)\\\n",
    "                .cache()\n",
    "    if year == None:\n",
    "        result = result.toPandas().set_index(column1)\n",
    "    else:\n",
    "        result = result.where(col(column1)==year)\\\n",
    "                       .toPandas().set_index(column1)\n",
    "    return result\n",
    "\n",
    "#Top 5 countries/commodities based on maximum positive/negative growth of export/import values by year\n",
    "def gain(df,column1, column2, column3,order,n, start_year = None, end_year = None): #if star_year and end_year \n",
    "                                                                                    #parameter is mentioned,\n",
    "                                                                                    #computation will done only for \n",
    "                                                                                    #years in between them\n",
    "    if start_year == None:\n",
    "        start_year = str(df.select(column1).agg(min(column1)).first()[0])\n",
    "    if end_year == None:\n",
    "        end_year = str(df.select(column1).agg(max(column1)).first()[0])\n",
    "    result = df.groupBy(column1, column2)\\\n",
    "               .agg(sum(column3).alias(column3))\\\n",
    "               .where((col(column1) == start_year) | (col(column1) == end_year))\\\n",
    "               .na.fill(0)\\\n",
    "               .cache()\\\n",
    "               .groupBy(column2)\\\n",
    "               .pivot(column1)\\\n",
    "               .agg(max(col(column3)))\\\n",
    "               .fillna(0)\\\n",
    "               .cache()\\\n",
    "               .withColumn('gain', round(col(end_year)-col(start_year),3))\\\n",
    "               .select(column2,start_year,end_year,'gain')\\\n",
    "               .cache()\n",
    "    if order==desc:\n",
    "        result = result.orderBy(col('gain').desc()).limit(n).toPandas()\n",
    "    else:\n",
    "        result = result.orderBy(col('gain').asc()).limit(n).toPandas()\n",
    "    result.index = np.arange(1, len(result)+1)\n",
    "    return result"
   ]
  },
  {
   "cell_type": "markdown",
   "metadata": {},
   "source": [
    "## 6.1 Trade Indicators"
   ]
  },
  {
   "cell_type": "code",
   "execution_count": 42,
   "metadata": {},
   "outputs": [
    {
     "data": {
      "text/markdown": [
       "<h3>a.) Annual Import Value and Change</h3>"
      ],
      "text/plain": [
       "<IPython.core.display.Markdown object>"
      ]
     },
     "metadata": {},
     "output_type": "display_data"
    },
    {
     "data": {
      "text/html": [
       "<div>\n",
       "<style scoped>\n",
       "    .dataframe tbody tr th:only-of-type {\n",
       "        vertical-align: middle;\n",
       "    }\n",
       "\n",
       "    .dataframe tbody tr th {\n",
       "        vertical-align: top;\n",
       "    }\n",
       "\n",
       "    .dataframe thead th {\n",
       "        text-align: right;\n",
       "    }\n",
       "</style>\n",
       "<table border=\"1\" class=\"dataframe\">\n",
       "  <thead>\n",
       "    <tr style=\"text-align: right;\">\n",
       "      <th></th>\n",
       "      <th>import value</th>\n",
       "      <th>change in import value</th>\n",
       "      <th>% change in import value</th>\n",
       "    </tr>\n",
       "    <tr>\n",
       "      <th>year</th>\n",
       "      <th></th>\n",
       "      <th></th>\n",
       "      <th></th>\n",
       "    </tr>\n",
       "  </thead>\n",
       "  <tbody>\n",
       "    <tr>\n",
       "      <th>2015</th>\n",
       "      <td>448033.409</td>\n",
       "      <td>NaN</td>\n",
       "      <td>NaN</td>\n",
       "    </tr>\n",
       "    <tr>\n",
       "      <th>2016</th>\n",
       "      <td>381006.629</td>\n",
       "      <td>-67026.780</td>\n",
       "      <td>-14.960</td>\n",
       "    </tr>\n",
       "    <tr>\n",
       "      <th>2017</th>\n",
       "      <td>382740.943</td>\n",
       "      <td>1734.314</td>\n",
       "      <td>0.455</td>\n",
       "    </tr>\n",
       "    <tr>\n",
       "      <th>2018</th>\n",
       "      <td>465579.740</td>\n",
       "      <td>82838.797</td>\n",
       "      <td>21.644</td>\n",
       "    </tr>\n",
       "    <tr>\n",
       "      <th>2019</th>\n",
       "      <td>514078.371</td>\n",
       "      <td>48498.631</td>\n",
       "      <td>10.417</td>\n",
       "    </tr>\n",
       "    <tr>\n",
       "      <th>2020</th>\n",
       "      <td>474707.520</td>\n",
       "      <td>-39370.851</td>\n",
       "      <td>-7.659</td>\n",
       "    </tr>\n",
       "  </tbody>\n",
       "</table>\n",
       "</div>"
      ],
      "text/plain": [
       "      import value  change in import value  % change in import value\n",
       "year                                                                \n",
       "2015    448033.409                     NaN                       NaN\n",
       "2016    381006.629              -67026.780                   -14.960\n",
       "2017    382740.943                1734.314                     0.455\n",
       "2018    465579.740               82838.797                    21.644\n",
       "2019    514078.371               48498.631                    10.417\n",
       "2020    474707.520              -39370.851                    -7.659"
      ]
     },
     "metadata": {},
     "output_type": "display_data"
    },
    {
     "data": {
      "text/markdown": [
       "<br>"
      ],
      "text/plain": [
       "<IPython.core.display.Markdown object>"
      ]
     },
     "metadata": {},
     "output_type": "display_data"
    },
    {
     "data": {
      "text/markdown": [
       "<h3>b.) Annual Export Value and Change</h3>"
      ],
      "text/plain": [
       "<IPython.core.display.Markdown object>"
      ]
     },
     "metadata": {},
     "output_type": "display_data"
    },
    {
     "data": {
      "text/html": [
       "<div>\n",
       "<style scoped>\n",
       "    .dataframe tbody tr th:only-of-type {\n",
       "        vertical-align: middle;\n",
       "    }\n",
       "\n",
       "    .dataframe tbody tr th {\n",
       "        vertical-align: top;\n",
       "    }\n",
       "\n",
       "    .dataframe thead th {\n",
       "        text-align: right;\n",
       "    }\n",
       "</style>\n",
       "<table border=\"1\" class=\"dataframe\">\n",
       "  <thead>\n",
       "    <tr style=\"text-align: right;\">\n",
       "      <th></th>\n",
       "      <th>export value</th>\n",
       "      <th>change in export value</th>\n",
       "      <th>% change in export value</th>\n",
       "    </tr>\n",
       "    <tr>\n",
       "      <th>year</th>\n",
       "      <th></th>\n",
       "      <th></th>\n",
       "      <th></th>\n",
       "    </tr>\n",
       "  </thead>\n",
       "  <tbody>\n",
       "    <tr>\n",
       "      <th>2015</th>\n",
       "      <td>310352.009</td>\n",
       "      <td>NaN</td>\n",
       "      <td>NaN</td>\n",
       "    </tr>\n",
       "    <tr>\n",
       "      <th>2016</th>\n",
       "      <td>262290.125</td>\n",
       "      <td>-48061.884</td>\n",
       "      <td>-15.486</td>\n",
       "    </tr>\n",
       "    <tr>\n",
       "      <th>2017</th>\n",
       "      <td>276547.001</td>\n",
       "      <td>14256.876</td>\n",
       "      <td>5.436</td>\n",
       "    </tr>\n",
       "    <tr>\n",
       "      <th>2018</th>\n",
       "      <td>303523.190</td>\n",
       "      <td>26976.189</td>\n",
       "      <td>9.755</td>\n",
       "    </tr>\n",
       "    <tr>\n",
       "      <th>2019</th>\n",
       "      <td>330077.903</td>\n",
       "      <td>26554.713</td>\n",
       "      <td>8.749</td>\n",
       "    </tr>\n",
       "    <tr>\n",
       "      <th>2020</th>\n",
       "      <td>313368.430</td>\n",
       "      <td>-16709.473</td>\n",
       "      <td>-5.062</td>\n",
       "    </tr>\n",
       "  </tbody>\n",
       "</table>\n",
       "</div>"
      ],
      "text/plain": [
       "      export value  change in export value  % change in export value\n",
       "year                                                                \n",
       "2015    310352.009                     NaN                       NaN\n",
       "2016    262290.125              -48061.884                   -15.486\n",
       "2017    276547.001               14256.876                     5.436\n",
       "2018    303523.190               26976.189                     9.755\n",
       "2019    330077.903               26554.713                     8.749\n",
       "2020    313368.430              -16709.473                    -5.062"
      ]
     },
     "metadata": {},
     "output_type": "display_data"
    },
    {
     "data": {
      "text/markdown": [
       "<br>"
      ],
      "text/plain": [
       "<IPython.core.display.Markdown object>"
      ]
     },
     "metadata": {},
     "output_type": "display_data"
    },
    {
     "data": {
      "text/markdown": [
       "<h3>c.) Annual Trade Balance, Change and Trade Balance Status</h3>"
      ],
      "text/plain": [
       "<IPython.core.display.Markdown object>"
      ]
     },
     "metadata": {},
     "output_type": "display_data"
    },
    {
     "data": {
      "text/html": [
       "<div>\n",
       "<style scoped>\n",
       "    .dataframe tbody tr th:only-of-type {\n",
       "        vertical-align: middle;\n",
       "    }\n",
       "\n",
       "    .dataframe tbody tr th {\n",
       "        vertical-align: top;\n",
       "    }\n",
       "\n",
       "    .dataframe thead th {\n",
       "        text-align: right;\n",
       "    }\n",
       "</style>\n",
       "<table border=\"1\" class=\"dataframe\">\n",
       "  <thead>\n",
       "    <tr style=\"text-align: right;\">\n",
       "      <th></th>\n",
       "      <th>trade balance</th>\n",
       "      <th>change in trade balance</th>\n",
       "      <th>% change in trade balance</th>\n",
       "      <th>deficit/surplus</th>\n",
       "    </tr>\n",
       "    <tr>\n",
       "      <th>year</th>\n",
       "      <th></th>\n",
       "      <th></th>\n",
       "      <th></th>\n",
       "      <th></th>\n",
       "    </tr>\n",
       "  </thead>\n",
       "  <tbody>\n",
       "    <tr>\n",
       "      <th>2015</th>\n",
       "      <td>-137681.508</td>\n",
       "      <td>NaN</td>\n",
       "      <td>NaN</td>\n",
       "      <td>deficit</td>\n",
       "    </tr>\n",
       "    <tr>\n",
       "      <th>2016</th>\n",
       "      <td>-118716.591</td>\n",
       "      <td>18964.917</td>\n",
       "      <td>13.774</td>\n",
       "      <td>deficit</td>\n",
       "    </tr>\n",
       "    <tr>\n",
       "      <th>2017</th>\n",
       "      <td>-106193.973</td>\n",
       "      <td>12522.618</td>\n",
       "      <td>10.548</td>\n",
       "      <td>deficit</td>\n",
       "    </tr>\n",
       "    <tr>\n",
       "      <th>2018</th>\n",
       "      <td>-162056.550</td>\n",
       "      <td>-55862.577</td>\n",
       "      <td>-52.604</td>\n",
       "      <td>deficit</td>\n",
       "    </tr>\n",
       "    <tr>\n",
       "      <th>2019</th>\n",
       "      <td>-184000.468</td>\n",
       "      <td>-21943.918</td>\n",
       "      <td>-13.541</td>\n",
       "      <td>deficit</td>\n",
       "    </tr>\n",
       "    <tr>\n",
       "      <th>2020</th>\n",
       "      <td>-161339.090</td>\n",
       "      <td>22661.378</td>\n",
       "      <td>12.316</td>\n",
       "      <td>deficit</td>\n",
       "    </tr>\n",
       "  </tbody>\n",
       "</table>\n",
       "</div>"
      ],
      "text/plain": [
       "      trade balance  change in trade balance  % change in trade balance  \\\n",
       "year                                                                      \n",
       "2015    -137681.508                      NaN                        NaN   \n",
       "2016    -118716.591                18964.917                     13.774   \n",
       "2017    -106193.973                12522.618                     10.548   \n",
       "2018    -162056.550               -55862.577                    -52.604   \n",
       "2019    -184000.468               -21943.918                    -13.541   \n",
       "2020    -161339.090                22661.378                     12.316   \n",
       "\n",
       "     deficit/surplus  \n",
       "year                  \n",
       "2015         deficit  \n",
       "2016         deficit  \n",
       "2017         deficit  \n",
       "2018         deficit  \n",
       "2019         deficit  \n",
       "2020         deficit  "
      ]
     },
     "metadata": {},
     "output_type": "display_data"
    },
    {
     "data": {
      "text/markdown": [
       "<br>"
      ],
      "text/plain": [
       "<IPython.core.display.Markdown object>"
      ]
     },
     "metadata": {},
     "output_type": "display_data"
    }
   ],
   "source": [
    "#Annual Import Value and Change\n",
    "a = total_and_change(india_trade,'year','import value')\n",
    "display(Markdown(\"<h3>a.) Annual Import Value and Change</h3>\"),a,Markdown('<br>'))\n",
    "\n",
    "#Annual Export Value and Change\n",
    "b = total_and_change(india_trade,'year','export value')\n",
    "display(Markdown(\"<h3>b.) Annual Export Value and Change</h3>\"),b,Markdown('<br>'))\n",
    "\n",
    "#Annual Trade Balance, Change and Trade Balance Status\n",
    "c = total_and_change(india_trade,'year','trade balance')\n",
    "display(Markdown(\"<h3>c.) Annual Trade Balance, Change and Trade Balance Status</h3>\"),c,Markdown('<br>'))"
   ]
  },
  {
   "cell_type": "markdown",
   "metadata": {},
   "source": [
    "## 6.2 Main Partners"
   ]
  },
  {
   "cell_type": "code",
   "execution_count": 23,
   "metadata": {},
   "outputs": [
    {
     "data": {
      "text/markdown": [
       "<h3>d.) Top 5 Sellers Based on % of Imports</h3>"
      ],
      "text/plain": [
       "<IPython.core.display.Markdown object>"
      ]
     },
     "metadata": {},
     "output_type": "display_data"
    },
    {
     "data": {
      "text/html": [
       "<div>\n",
       "<style scoped>\n",
       "    .dataframe tbody tr th:only-of-type {\n",
       "        vertical-align: middle;\n",
       "    }\n",
       "\n",
       "    .dataframe tbody tr th {\n",
       "        vertical-align: top;\n",
       "    }\n",
       "\n",
       "    .dataframe thead th {\n",
       "        text-align: right;\n",
       "    }\n",
       "</style>\n",
       "<table border=\"1\" class=\"dataframe\">\n",
       "  <thead>\n",
       "    <tr style=\"text-align: right;\">\n",
       "      <th>year</th>\n",
       "      <th>2015</th>\n",
       "      <th>2016</th>\n",
       "      <th>2017</th>\n",
       "      <th>2018</th>\n",
       "      <th>2019</th>\n",
       "      <th>2020</th>\n",
       "    </tr>\n",
       "  </thead>\n",
       "  <tbody>\n",
       "    <tr>\n",
       "      <th>1) country of import</th>\n",
       "      <td>CHINA P RP</td>\n",
       "      <td>CHINA P RP</td>\n",
       "      <td>CHINA P RP</td>\n",
       "      <td>CHINA P RP</td>\n",
       "      <td>CHINA P RP</td>\n",
       "      <td>CHINA P RP</td>\n",
       "    </tr>\n",
       "    <tr>\n",
       "      <th>1) import value</th>\n",
       "      <td>60413.2</td>\n",
       "      <td>61706.8</td>\n",
       "      <td>61310.6</td>\n",
       "      <td>76380.8</td>\n",
       "      <td>70319.6</td>\n",
       "      <td>65260.7</td>\n",
       "    </tr>\n",
       "    <tr>\n",
       "      <th>1) % of total import</th>\n",
       "      <td>13.484</td>\n",
       "      <td>7.443</td>\n",
       "      <td>5.06</td>\n",
       "      <td>4.554</td>\n",
       "      <td>3.209</td>\n",
       "      <td>2.448</td>\n",
       "    </tr>\n",
       "    <tr>\n",
       "      <th>2) country of import</th>\n",
       "      <td>SAUDI ARAB</td>\n",
       "      <td>U S A</td>\n",
       "      <td>U S A</td>\n",
       "      <td>U S A</td>\n",
       "      <td>U S A</td>\n",
       "      <td>U S A</td>\n",
       "    </tr>\n",
       "    <tr>\n",
       "      <th>2) import value</th>\n",
       "      <td>28107.6</td>\n",
       "      <td>21781.4</td>\n",
       "      <td>22103.6</td>\n",
       "      <td>26611</td>\n",
       "      <td>35550.2</td>\n",
       "      <td>35820.7</td>\n",
       "    </tr>\n",
       "    <tr>\n",
       "      <th>2) % of total import</th>\n",
       "      <td>6.274</td>\n",
       "      <td>2.627</td>\n",
       "      <td>1.824</td>\n",
       "      <td>1.586</td>\n",
       "      <td>1.622</td>\n",
       "      <td>1.344</td>\n",
       "    </tr>\n",
       "    <tr>\n",
       "      <th>3) country of import</th>\n",
       "      <td>U ARAB EMTS</td>\n",
       "      <td>SAUDI ARAB</td>\n",
       "      <td>U ARAB EMTS</td>\n",
       "      <td>SAUDI ARAB</td>\n",
       "      <td>U ARAB EMTS</td>\n",
       "      <td>U ARAB EMTS</td>\n",
       "    </tr>\n",
       "    <tr>\n",
       "      <th>3) import value</th>\n",
       "      <td>26139.9</td>\n",
       "      <td>20321.3</td>\n",
       "      <td>21470.7</td>\n",
       "      <td>22069.9</td>\n",
       "      <td>29787.2</td>\n",
       "      <td>30265.9</td>\n",
       "    </tr>\n",
       "    <tr>\n",
       "      <th>3) % of total import</th>\n",
       "      <td>5.834</td>\n",
       "      <td>2.451</td>\n",
       "      <td>1.772</td>\n",
       "      <td>1.316</td>\n",
       "      <td>1.359</td>\n",
       "      <td>1.135</td>\n",
       "    </tr>\n",
       "    <tr>\n",
       "      <th>4) country of import</th>\n",
       "      <td>SWITZERLAND</td>\n",
       "      <td>U ARAB EMTS</td>\n",
       "      <td>SAUDI ARAB</td>\n",
       "      <td>U ARAB EMTS</td>\n",
       "      <td>SAUDI ARAB</td>\n",
       "      <td>SAUDI ARAB</td>\n",
       "    </tr>\n",
       "    <tr>\n",
       "      <th>4) import value</th>\n",
       "      <td>22133.2</td>\n",
       "      <td>19445.7</td>\n",
       "      <td>19957</td>\n",
       "      <td>21739.1</td>\n",
       "      <td>28479.2</td>\n",
       "      <td>26857.3</td>\n",
       "    </tr>\n",
       "    <tr>\n",
       "      <th>4) % of total import</th>\n",
       "      <td>4.94</td>\n",
       "      <td>2.346</td>\n",
       "      <td>1.647</td>\n",
       "      <td>1.296</td>\n",
       "      <td>1.3</td>\n",
       "      <td>1.007</td>\n",
       "    </tr>\n",
       "    <tr>\n",
       "      <th>5) country of import</th>\n",
       "      <td>U S A</td>\n",
       "      <td>SWITZERLAND</td>\n",
       "      <td>SWITZERLAND</td>\n",
       "      <td>SWITZERLAND</td>\n",
       "      <td>IRAQ</td>\n",
       "      <td>IRAQ</td>\n",
       "    </tr>\n",
       "    <tr>\n",
       "      <th>5) import value</th>\n",
       "      <td>21814.6</td>\n",
       "      <td>19299.5</td>\n",
       "      <td>17255.2</td>\n",
       "      <td>18923</td>\n",
       "      <td>22372.5</td>\n",
       "      <td>23740.1</td>\n",
       "    </tr>\n",
       "    <tr>\n",
       "      <th>5) % of total import</th>\n",
       "      <td>4.869</td>\n",
       "      <td>2.328</td>\n",
       "      <td>1.424</td>\n",
       "      <td>1.128</td>\n",
       "      <td>1.021</td>\n",
       "      <td>0.89</td>\n",
       "    </tr>\n",
       "  </tbody>\n",
       "</table>\n",
       "</div>"
      ],
      "text/plain": [
       "year                         2015         2016         2017         2018  \\\n",
       "1) country of import   CHINA P RP   CHINA P RP   CHINA P RP   CHINA P RP   \n",
       "1) import value           60413.2      61706.8      61310.6      76380.8   \n",
       "1) % of total import       13.484        7.443         5.06        4.554   \n",
       "2) country of import   SAUDI ARAB        U S A        U S A        U S A   \n",
       "2) import value           28107.6      21781.4      22103.6        26611   \n",
       "2) % of total import        6.274        2.627        1.824        1.586   \n",
       "3) country of import  U ARAB EMTS   SAUDI ARAB  U ARAB EMTS   SAUDI ARAB   \n",
       "3) import value           26139.9      20321.3      21470.7      22069.9   \n",
       "3) % of total import        5.834        2.451        1.772        1.316   \n",
       "4) country of import  SWITZERLAND  U ARAB EMTS   SAUDI ARAB  U ARAB EMTS   \n",
       "4) import value           22133.2      19445.7        19957      21739.1   \n",
       "4) % of total import         4.94        2.346        1.647        1.296   \n",
       "5) country of import        U S A  SWITZERLAND  SWITZERLAND  SWITZERLAND   \n",
       "5) import value           21814.6      19299.5      17255.2        18923   \n",
       "5) % of total import        4.869        2.328        1.424        1.128   \n",
       "\n",
       "year                         2019         2020  \n",
       "1) country of import   CHINA P RP   CHINA P RP  \n",
       "1) import value           70319.6      65260.7  \n",
       "1) % of total import        3.209        2.448  \n",
       "2) country of import        U S A        U S A  \n",
       "2) import value           35550.2      35820.7  \n",
       "2) % of total import        1.622        1.344  \n",
       "3) country of import  U ARAB EMTS  U ARAB EMTS  \n",
       "3) import value           29787.2      30265.9  \n",
       "3) % of total import        1.359        1.135  \n",
       "4) country of import   SAUDI ARAB   SAUDI ARAB  \n",
       "4) import value           28479.2      26857.3  \n",
       "4) % of total import          1.3        1.007  \n",
       "5) country of import         IRAQ         IRAQ  \n",
       "5) import value           22372.5      23740.1  \n",
       "5) % of total import        1.021         0.89  "
      ]
     },
     "metadata": {},
     "output_type": "display_data"
    },
    {
     "data": {
      "text/markdown": [
       "<br>"
      ],
      "text/plain": [
       "<IPython.core.display.Markdown object>"
      ]
     },
     "metadata": {},
     "output_type": "display_data"
    },
    {
     "data": {
      "text/markdown": [
       "<h3>e.) Top 5 Buyers Based on % of Exports</h3>"
      ],
      "text/plain": [
       "<IPython.core.display.Markdown object>"
      ]
     },
     "metadata": {},
     "output_type": "display_data"
    },
    {
     "data": {
      "text/html": [
       "<div>\n",
       "<style scoped>\n",
       "    .dataframe tbody tr th:only-of-type {\n",
       "        vertical-align: middle;\n",
       "    }\n",
       "\n",
       "    .dataframe tbody tr th {\n",
       "        vertical-align: top;\n",
       "    }\n",
       "\n",
       "    .dataframe thead th {\n",
       "        text-align: right;\n",
       "    }\n",
       "</style>\n",
       "<table border=\"1\" class=\"dataframe\">\n",
       "  <thead>\n",
       "    <tr style=\"text-align: right;\">\n",
       "      <th>year</th>\n",
       "      <th>2015</th>\n",
       "      <th>2016</th>\n",
       "      <th>2017</th>\n",
       "      <th>2018</th>\n",
       "      <th>2019</th>\n",
       "      <th>2020</th>\n",
       "    </tr>\n",
       "  </thead>\n",
       "  <tbody>\n",
       "    <tr>\n",
       "      <th>1) country of export</th>\n",
       "      <td>U S A</td>\n",
       "      <td>U S A</td>\n",
       "      <td>U S A</td>\n",
       "      <td>U S A</td>\n",
       "      <td>U S A</td>\n",
       "      <td>U S A</td>\n",
       "    </tr>\n",
       "    <tr>\n",
       "      <th>1) export value</th>\n",
       "      <td>42464.2</td>\n",
       "      <td>40339.8</td>\n",
       "      <td>42331.8</td>\n",
       "      <td>47882.3</td>\n",
       "      <td>52427.5</td>\n",
       "      <td>53108.7</td>\n",
       "    </tr>\n",
       "    <tr>\n",
       "      <th>1) % of total export</th>\n",
       "      <td>13.683</td>\n",
       "      <td>7.045</td>\n",
       "      <td>4.985</td>\n",
       "      <td>4.154</td>\n",
       "      <td>3.536</td>\n",
       "      <td>2.957</td>\n",
       "    </tr>\n",
       "    <tr>\n",
       "      <th>2) country of export</th>\n",
       "      <td>U ARAB EMTS</td>\n",
       "      <td>U ARAB EMTS</td>\n",
       "      <td>U ARAB EMTS</td>\n",
       "      <td>U ARAB EMTS</td>\n",
       "      <td>U ARAB EMTS</td>\n",
       "      <td>U ARAB EMTS</td>\n",
       "    </tr>\n",
       "    <tr>\n",
       "      <th>2) export value</th>\n",
       "      <td>33028.1</td>\n",
       "      <td>30290</td>\n",
       "      <td>31257.7</td>\n",
       "      <td>28146.1</td>\n",
       "      <td>30127</td>\n",
       "      <td>28853.8</td>\n",
       "    </tr>\n",
       "    <tr>\n",
       "      <th>2) % of total export</th>\n",
       "      <td>10.642</td>\n",
       "      <td>5.29</td>\n",
       "      <td>3.681</td>\n",
       "      <td>2.442</td>\n",
       "      <td>2.032</td>\n",
       "      <td>1.606</td>\n",
       "    </tr>\n",
       "    <tr>\n",
       "      <th>3) country of export</th>\n",
       "      <td>HONG KONG</td>\n",
       "      <td>HONG KONG</td>\n",
       "      <td>HONG KONG</td>\n",
       "      <td>HONG KONG</td>\n",
       "      <td>CHINA P RP</td>\n",
       "      <td>CHINA P RP</td>\n",
       "    </tr>\n",
       "    <tr>\n",
       "      <th>3) export value</th>\n",
       "      <td>13599.9</td>\n",
       "      <td>12092.2</td>\n",
       "      <td>14157.2</td>\n",
       "      <td>14690.3</td>\n",
       "      <td>16752.8</td>\n",
       "      <td>16614.4</td>\n",
       "    </tr>\n",
       "    <tr>\n",
       "      <th>3) % of total export</th>\n",
       "      <td>4.382</td>\n",
       "      <td>2.112</td>\n",
       "      <td>1.667</td>\n",
       "      <td>1.274</td>\n",
       "      <td>1.13</td>\n",
       "      <td>0.925</td>\n",
       "    </tr>\n",
       "    <tr>\n",
       "      <th>4) country of export</th>\n",
       "      <td>CHINA P RP</td>\n",
       "      <td>CHINA P RP</td>\n",
       "      <td>CHINA P RP</td>\n",
       "      <td>CHINA P RP</td>\n",
       "      <td>HONG KONG</td>\n",
       "      <td>HONG KONG</td>\n",
       "    </tr>\n",
       "    <tr>\n",
       "      <th>4) export value</th>\n",
       "      <td>11958.5</td>\n",
       "      <td>9013.54</td>\n",
       "      <td>10203.3</td>\n",
       "      <td>13334.4</td>\n",
       "      <td>13002</td>\n",
       "      <td>10967.2</td>\n",
       "    </tr>\n",
       "    <tr>\n",
       "      <th>4) % of total export</th>\n",
       "      <td>3.853</td>\n",
       "      <td>1.574</td>\n",
       "      <td>1.202</td>\n",
       "      <td>1.157</td>\n",
       "      <td>0.877</td>\n",
       "      <td>0.611</td>\n",
       "    </tr>\n",
       "    <tr>\n",
       "      <th>5) country of export</th>\n",
       "      <td>SAUDI ARAB</td>\n",
       "      <td>U K</td>\n",
       "      <td>SINGAPORE</td>\n",
       "      <td>SINGAPORE</td>\n",
       "      <td>SINGAPORE</td>\n",
       "      <td>SINGAPORE</td>\n",
       "    </tr>\n",
       "    <tr>\n",
       "      <th>5) export value</th>\n",
       "      <td>11162.5</td>\n",
       "      <td>8858</td>\n",
       "      <td>9567.18</td>\n",
       "      <td>10203</td>\n",
       "      <td>11572.4</td>\n",
       "      <td>8922.76</td>\n",
       "    </tr>\n",
       "    <tr>\n",
       "      <th>5) % of total export</th>\n",
       "      <td>3.597</td>\n",
       "      <td>1.547</td>\n",
       "      <td>1.127</td>\n",
       "      <td>0.885</td>\n",
       "      <td>0.78</td>\n",
       "      <td>0.497</td>\n",
       "    </tr>\n",
       "  </tbody>\n",
       "</table>\n",
       "</div>"
      ],
      "text/plain": [
       "year                         2015         2016         2017         2018  \\\n",
       "1) country of export        U S A        U S A        U S A        U S A   \n",
       "1) export value           42464.2      40339.8      42331.8      47882.3   \n",
       "1) % of total export       13.683        7.045        4.985        4.154   \n",
       "2) country of export  U ARAB EMTS  U ARAB EMTS  U ARAB EMTS  U ARAB EMTS   \n",
       "2) export value           33028.1        30290      31257.7      28146.1   \n",
       "2) % of total export       10.642         5.29        3.681        2.442   \n",
       "3) country of export    HONG KONG    HONG KONG    HONG KONG    HONG KONG   \n",
       "3) export value           13599.9      12092.2      14157.2      14690.3   \n",
       "3) % of total export        4.382        2.112        1.667        1.274   \n",
       "4) country of export   CHINA P RP   CHINA P RP   CHINA P RP   CHINA P RP   \n",
       "4) export value           11958.5      9013.54      10203.3      13334.4   \n",
       "4) % of total export        3.853        1.574        1.202        1.157   \n",
       "5) country of export   SAUDI ARAB          U K    SINGAPORE    SINGAPORE   \n",
       "5) export value           11162.5         8858      9567.18        10203   \n",
       "5) % of total export        3.597        1.547        1.127        0.885   \n",
       "\n",
       "year                         2019         2020  \n",
       "1) country of export        U S A        U S A  \n",
       "1) export value           52427.5      53108.7  \n",
       "1) % of total export        3.536        2.957  \n",
       "2) country of export  U ARAB EMTS  U ARAB EMTS  \n",
       "2) export value             30127      28853.8  \n",
       "2) % of total export        2.032        1.606  \n",
       "3) country of export   CHINA P RP   CHINA P RP  \n",
       "3) export value           16752.8      16614.4  \n",
       "3) % of total export         1.13        0.925  \n",
       "4) country of export    HONG KONG    HONG KONG  \n",
       "4) export value             13002      10967.2  \n",
       "4) % of total export        0.877        0.611  \n",
       "5) country of export    SINGAPORE    SINGAPORE  \n",
       "5) export value           11572.4      8922.76  \n",
       "5) % of total export         0.78        0.497  "
      ]
     },
     "metadata": {},
     "output_type": "display_data"
    },
    {
     "data": {
      "text/markdown": [
       "<br>"
      ],
      "text/plain": [
       "<IPython.core.display.Markdown object>"
      ]
     },
     "metadata": {},
     "output_type": "display_data"
    },
    {
     "data": {
      "text/markdown": [
       "<h3>f.) Top 5 Buyers based on number of Commodities Exported</h3>"
      ],
      "text/plain": [
       "<IPython.core.display.Markdown object>"
      ]
     },
     "metadata": {},
     "output_type": "display_data"
    },
    {
     "data": {
      "text/html": [
       "<div>\n",
       "<style scoped>\n",
       "    .dataframe tbody tr th:only-of-type {\n",
       "        vertical-align: middle;\n",
       "    }\n",
       "\n",
       "    .dataframe tbody tr th {\n",
       "        vertical-align: top;\n",
       "    }\n",
       "\n",
       "    .dataframe thead th {\n",
       "        text-align: right;\n",
       "    }\n",
       "</style>\n",
       "<table border=\"1\" class=\"dataframe\">\n",
       "  <thead>\n",
       "    <tr style=\"text-align: right;\">\n",
       "      <th>year</th>\n",
       "      <th>2015</th>\n",
       "      <th>2016</th>\n",
       "      <th>2017</th>\n",
       "      <th>2018</th>\n",
       "      <th>2019</th>\n",
       "      <th>2020</th>\n",
       "    </tr>\n",
       "  </thead>\n",
       "  <tbody>\n",
       "    <tr>\n",
       "      <th>1) country</th>\n",
       "      <td>U S A</td>\n",
       "      <td>U S A</td>\n",
       "      <td>U S A</td>\n",
       "      <td>U ARAB EMTS</td>\n",
       "      <td>U S A</td>\n",
       "      <td>NEPAL</td>\n",
       "    </tr>\n",
       "    <tr>\n",
       "      <th>1) number of commodities exported</th>\n",
       "      <td>160</td>\n",
       "      <td>163</td>\n",
       "      <td>161</td>\n",
       "      <td>159</td>\n",
       "      <td>162</td>\n",
       "      <td>162</td>\n",
       "    </tr>\n",
       "    <tr>\n",
       "      <th>2) country</th>\n",
       "      <td>U ARAB EMTS</td>\n",
       "      <td>U ARAB EMTS</td>\n",
       "      <td>U ARAB EMTS</td>\n",
       "      <td>U S A</td>\n",
       "      <td>NEPAL</td>\n",
       "      <td>U S A</td>\n",
       "    </tr>\n",
       "    <tr>\n",
       "      <th>2) number of commodities exported</th>\n",
       "      <td>160</td>\n",
       "      <td>160</td>\n",
       "      <td>160</td>\n",
       "      <td>158</td>\n",
       "      <td>160</td>\n",
       "      <td>159</td>\n",
       "    </tr>\n",
       "    <tr>\n",
       "      <th>3) country</th>\n",
       "      <td>NEPAL</td>\n",
       "      <td>NEPAL</td>\n",
       "      <td>NEPAL</td>\n",
       "      <td>NEPAL</td>\n",
       "      <td>GERMANY</td>\n",
       "      <td>U ARAB EMTS</td>\n",
       "    </tr>\n",
       "    <tr>\n",
       "      <th>3) number of commodities exported</th>\n",
       "      <td>159</td>\n",
       "      <td>159</td>\n",
       "      <td>159</td>\n",
       "      <td>157</td>\n",
       "      <td>159</td>\n",
       "      <td>158</td>\n",
       "    </tr>\n",
       "    <tr>\n",
       "      <th>4) country</th>\n",
       "      <td>U K</td>\n",
       "      <td>SAUDI ARAB</td>\n",
       "      <td>GERMANY</td>\n",
       "      <td>U K</td>\n",
       "      <td>MALAYSIA</td>\n",
       "      <td>U K</td>\n",
       "    </tr>\n",
       "    <tr>\n",
       "      <th>4) number of commodities exported</th>\n",
       "      <td>157</td>\n",
       "      <td>156</td>\n",
       "      <td>159</td>\n",
       "      <td>154</td>\n",
       "      <td>159</td>\n",
       "      <td>155</td>\n",
       "    </tr>\n",
       "    <tr>\n",
       "      <th>5) country</th>\n",
       "      <td>GERMANY</td>\n",
       "      <td>MALAYSIA</td>\n",
       "      <td>U K</td>\n",
       "      <td>GERMANY</td>\n",
       "      <td>U ARAB EMTS</td>\n",
       "      <td>MALAYSIA</td>\n",
       "    </tr>\n",
       "    <tr>\n",
       "      <th>5) number of commodities exported</th>\n",
       "      <td>157</td>\n",
       "      <td>156</td>\n",
       "      <td>158</td>\n",
       "      <td>151</td>\n",
       "      <td>159</td>\n",
       "      <td>152</td>\n",
       "    </tr>\n",
       "  </tbody>\n",
       "</table>\n",
       "</div>"
      ],
      "text/plain": [
       "year                                      2015         2016         2017  \\\n",
       "1) country                               U S A        U S A        U S A   \n",
       "1) number of commodities exported          160          163          161   \n",
       "2) country                         U ARAB EMTS  U ARAB EMTS  U ARAB EMTS   \n",
       "2) number of commodities exported          160          160          160   \n",
       "3) country                               NEPAL        NEPAL        NEPAL   \n",
       "3) number of commodities exported          159          159          159   \n",
       "4) country                                 U K   SAUDI ARAB      GERMANY   \n",
       "4) number of commodities exported          157          156          159   \n",
       "5) country                             GERMANY     MALAYSIA          U K   \n",
       "5) number of commodities exported          157          156          158   \n",
       "\n",
       "year                                      2018         2019         2020  \n",
       "1) country                         U ARAB EMTS        U S A        NEPAL  \n",
       "1) number of commodities exported          159          162          162  \n",
       "2) country                               U S A        NEPAL        U S A  \n",
       "2) number of commodities exported          158          160          159  \n",
       "3) country                               NEPAL      GERMANY  U ARAB EMTS  \n",
       "3) number of commodities exported          157          159          158  \n",
       "4) country                                 U K     MALAYSIA          U K  \n",
       "4) number of commodities exported          154          159          155  \n",
       "5) country                             GERMANY  U ARAB EMTS     MALAYSIA  \n",
       "5) number of commodities exported          151          159          152  "
      ]
     },
     "metadata": {},
     "output_type": "display_data"
    },
    {
     "data": {
      "text/markdown": [
       "<br>"
      ],
      "text/plain": [
       "<IPython.core.display.Markdown object>"
      ]
     },
     "metadata": {},
     "output_type": "display_data"
    },
    {
     "data": {
      "text/markdown": [
       "<h3>g.) Top 5 Suppliers based on number of Commodities Imported</h3>"
      ],
      "text/plain": [
       "<IPython.core.display.Markdown object>"
      ]
     },
     "metadata": {},
     "output_type": "display_data"
    },
    {
     "data": {
      "text/html": [
       "<div>\n",
       "<style scoped>\n",
       "    .dataframe tbody tr th:only-of-type {\n",
       "        vertical-align: middle;\n",
       "    }\n",
       "\n",
       "    .dataframe tbody tr th {\n",
       "        vertical-align: top;\n",
       "    }\n",
       "\n",
       "    .dataframe thead th {\n",
       "        text-align: right;\n",
       "    }\n",
       "</style>\n",
       "<table border=\"1\" class=\"dataframe\">\n",
       "  <thead>\n",
       "    <tr style=\"text-align: right;\">\n",
       "      <th>year</th>\n",
       "      <th>2015</th>\n",
       "      <th>2016</th>\n",
       "      <th>2017</th>\n",
       "      <th>2018</th>\n",
       "      <th>2019</th>\n",
       "      <th>2020</th>\n",
       "    </tr>\n",
       "  </thead>\n",
       "  <tbody>\n",
       "    <tr>\n",
       "      <th>1) country</th>\n",
       "      <td>U S A</td>\n",
       "      <td>CHINA P RP</td>\n",
       "      <td>CHINA P RP</td>\n",
       "      <td>U S A</td>\n",
       "      <td>U S A</td>\n",
       "      <td>U S A</td>\n",
       "    </tr>\n",
       "    <tr>\n",
       "      <th>1) number of commodities imported</th>\n",
       "      <td>152</td>\n",
       "      <td>154</td>\n",
       "      <td>148</td>\n",
       "      <td>147</td>\n",
       "      <td>153</td>\n",
       "      <td>153</td>\n",
       "    </tr>\n",
       "    <tr>\n",
       "      <th>2) country</th>\n",
       "      <td>CHINA P RP</td>\n",
       "      <td>U S A</td>\n",
       "      <td>U S A</td>\n",
       "      <td>CHINA P RP</td>\n",
       "      <td>U K</td>\n",
       "      <td>GERMANY</td>\n",
       "    </tr>\n",
       "    <tr>\n",
       "      <th>2) number of commodities imported</th>\n",
       "      <td>151</td>\n",
       "      <td>153</td>\n",
       "      <td>147</td>\n",
       "      <td>146</td>\n",
       "      <td>152</td>\n",
       "      <td>148</td>\n",
       "    </tr>\n",
       "    <tr>\n",
       "      <th>3) country</th>\n",
       "      <td>GERMANY</td>\n",
       "      <td>ITALY</td>\n",
       "      <td>GERMANY</td>\n",
       "      <td>GERMANY</td>\n",
       "      <td>CHINA P RP</td>\n",
       "      <td>CHINA P RP</td>\n",
       "    </tr>\n",
       "    <tr>\n",
       "      <th>3) number of commodities imported</th>\n",
       "      <td>145</td>\n",
       "      <td>143</td>\n",
       "      <td>146</td>\n",
       "      <td>145</td>\n",
       "      <td>149</td>\n",
       "      <td>147</td>\n",
       "    </tr>\n",
       "    <tr>\n",
       "      <th>4) country</th>\n",
       "      <td>ITALY</td>\n",
       "      <td>GERMANY</td>\n",
       "      <td>ITALY</td>\n",
       "      <td>UNSPECIFIED</td>\n",
       "      <td>GERMANY</td>\n",
       "      <td>U K</td>\n",
       "    </tr>\n",
       "    <tr>\n",
       "      <th>4) number of commodities imported</th>\n",
       "      <td>140</td>\n",
       "      <td>141</td>\n",
       "      <td>141</td>\n",
       "      <td>139</td>\n",
       "      <td>146</td>\n",
       "      <td>146</td>\n",
       "    </tr>\n",
       "    <tr>\n",
       "      <th>5) country</th>\n",
       "      <td>THAILAND</td>\n",
       "      <td>FRANCE</td>\n",
       "      <td>U K</td>\n",
       "      <td>ITALY</td>\n",
       "      <td>SINGAPORE</td>\n",
       "      <td>U ARAB EMTS</td>\n",
       "    </tr>\n",
       "    <tr>\n",
       "      <th>5) number of commodities imported</th>\n",
       "      <td>139</td>\n",
       "      <td>141</td>\n",
       "      <td>140</td>\n",
       "      <td>137</td>\n",
       "      <td>145</td>\n",
       "      <td>143</td>\n",
       "    </tr>\n",
       "  </tbody>\n",
       "</table>\n",
       "</div>"
      ],
      "text/plain": [
       "year                                     2015        2016        2017  \\\n",
       "1) country                              U S A  CHINA P RP  CHINA P RP   \n",
       "1) number of commodities imported         152         154         148   \n",
       "2) country                         CHINA P RP       U S A       U S A   \n",
       "2) number of commodities imported         151         153         147   \n",
       "3) country                            GERMANY       ITALY     GERMANY   \n",
       "3) number of commodities imported         145         143         146   \n",
       "4) country                              ITALY     GERMANY       ITALY   \n",
       "4) number of commodities imported         140         141         141   \n",
       "5) country                           THAILAND      FRANCE         U K   \n",
       "5) number of commodities imported         139         141         140   \n",
       "\n",
       "year                                      2018        2019         2020  \n",
       "1) country                               U S A       U S A        U S A  \n",
       "1) number of commodities imported          147         153          153  \n",
       "2) country                          CHINA P RP         U K      GERMANY  \n",
       "2) number of commodities imported          146         152          148  \n",
       "3) country                             GERMANY  CHINA P RP   CHINA P RP  \n",
       "3) number of commodities imported          145         149          147  \n",
       "4) country                         UNSPECIFIED     GERMANY          U K  \n",
       "4) number of commodities imported          139         146          146  \n",
       "5) country                               ITALY   SINGAPORE  U ARAB EMTS  \n",
       "5) number of commodities imported          137         145          143  "
      ]
     },
     "metadata": {},
     "output_type": "display_data"
    },
    {
     "data": {
      "text/markdown": [
       "<br>"
      ],
      "text/plain": [
       "<IPython.core.display.Markdown object>"
      ]
     },
     "metadata": {},
     "output_type": "display_data"
    },
    {
     "data": {
      "text/markdown": [
       "<h3>h.) Top 5 Buyers with Highest Positive Growth from 2015 to 2020</h3>"
      ],
      "text/plain": [
       "<IPython.core.display.Markdown object>"
      ]
     },
     "metadata": {},
     "output_type": "display_data"
    },
    {
     "data": {
      "text/html": [
       "<div>\n",
       "<style scoped>\n",
       "    .dataframe tbody tr th:only-of-type {\n",
       "        vertical-align: middle;\n",
       "    }\n",
       "\n",
       "    .dataframe tbody tr th {\n",
       "        vertical-align: top;\n",
       "    }\n",
       "\n",
       "    .dataframe thead th {\n",
       "        text-align: right;\n",
       "    }\n",
       "</style>\n",
       "<table border=\"1\" class=\"dataframe\">\n",
       "  <thead>\n",
       "    <tr style=\"text-align: right;\">\n",
       "      <th></th>\n",
       "      <th>country</th>\n",
       "      <th>gain</th>\n",
       "    </tr>\n",
       "  </thead>\n",
       "  <tbody>\n",
       "    <tr>\n",
       "      <th>1</th>\n",
       "      <td>U S A</td>\n",
       "      <td>10644.469</td>\n",
       "    </tr>\n",
       "    <tr>\n",
       "      <th>2</th>\n",
       "      <td>CHINA P RP</td>\n",
       "      <td>4655.907</td>\n",
       "    </tr>\n",
       "    <tr>\n",
       "      <th>3</th>\n",
       "      <td>NEPAL</td>\n",
       "      <td>2586.525</td>\n",
       "    </tr>\n",
       "    <tr>\n",
       "      <th>4</th>\n",
       "      <td>NETHERLAND</td>\n",
       "      <td>2042.023</td>\n",
       "    </tr>\n",
       "    <tr>\n",
       "      <th>5</th>\n",
       "      <td>BANGLADESH PR</td>\n",
       "      <td>1751.001</td>\n",
       "    </tr>\n",
       "  </tbody>\n",
       "</table>\n",
       "</div>"
      ],
      "text/plain": [
       "         country       gain\n",
       "1          U S A  10644.469\n",
       "2     CHINA P RP   4655.907\n",
       "3          NEPAL   2586.525\n",
       "4     NETHERLAND   2042.023\n",
       "5  BANGLADESH PR   1751.001"
      ]
     },
     "metadata": {},
     "output_type": "display_data"
    },
    {
     "data": {
      "text/markdown": [
       "<br>"
      ],
      "text/plain": [
       "<IPython.core.display.Markdown object>"
      ]
     },
     "metadata": {},
     "output_type": "display_data"
    },
    {
     "data": {
      "text/markdown": [
       "<h3>i.) Top 5 Sellers with Highest Negative Growth from 2015 to 2020</h3>"
      ],
      "text/plain": [
       "<IPython.core.display.Markdown object>"
      ]
     },
     "metadata": {},
     "output_type": "display_data"
    },
    {
     "data": {
      "text/html": [
       "<div>\n",
       "<style scoped>\n",
       "    .dataframe tbody tr th:only-of-type {\n",
       "        vertical-align: middle;\n",
       "    }\n",
       "\n",
       "    .dataframe tbody tr th {\n",
       "        vertical-align: top;\n",
       "    }\n",
       "\n",
       "    .dataframe thead th {\n",
       "        text-align: right;\n",
       "    }\n",
       "</style>\n",
       "<table border=\"1\" class=\"dataframe\">\n",
       "  <thead>\n",
       "    <tr style=\"text-align: right;\">\n",
       "      <th></th>\n",
       "      <th>country</th>\n",
       "      <th>gain</th>\n",
       "    </tr>\n",
       "  </thead>\n",
       "  <tbody>\n",
       "    <tr>\n",
       "      <th>1</th>\n",
       "      <td>IRAN</td>\n",
       "      <td>-7557.754</td>\n",
       "    </tr>\n",
       "    <tr>\n",
       "      <th>2</th>\n",
       "      <td>UNSPECIFIED</td>\n",
       "      <td>-7465.098</td>\n",
       "    </tr>\n",
       "    <tr>\n",
       "      <th>3</th>\n",
       "      <td>VENEZUELA</td>\n",
       "      <td>-5672.891</td>\n",
       "    </tr>\n",
       "    <tr>\n",
       "      <th>4</th>\n",
       "      <td>SWITZERLAND</td>\n",
       "      <td>-5233.283</td>\n",
       "    </tr>\n",
       "    <tr>\n",
       "      <th>5</th>\n",
       "      <td>QATAR</td>\n",
       "      <td>-4918.753</td>\n",
       "    </tr>\n",
       "  </tbody>\n",
       "</table>\n",
       "</div>"
      ],
      "text/plain": [
       "       country      gain\n",
       "1         IRAN -7557.754\n",
       "2  UNSPECIFIED -7465.098\n",
       "3    VENEZUELA -5672.891\n",
       "4  SWITZERLAND -5233.283\n",
       "5        QATAR -4918.753"
      ]
     },
     "metadata": {},
     "output_type": "display_data"
    },
    {
     "data": {
      "text/markdown": [
       "<br>"
      ],
      "text/plain": [
       "<IPython.core.display.Markdown object>"
      ]
     },
     "metadata": {},
     "output_type": "display_data"
    }
   ],
   "source": [
    "#Top 5 Sellers Based on % of Imports\n",
    "d = topx(india_trade,'year','country','import value',5)\n",
    "display(Markdown('<h3>d.) Top 5 Sellers Based on % of Imports</h3>'),d.T,Markdown('<br>'))\n",
    "\n",
    "#Top 5 Buyers Based on % of Exports\n",
    "e = topx(india_trade,'year','country','export value',5)\n",
    "display(Markdown('<h3>e.) Top 5 Buyers Based on % of Exports</h3>'),e.T,Markdown('<br>'))\n",
    "\n",
    "#Top 5 Buyers based on number of Commodities Exported\n",
    "f = count_x(india_trade,'year','country','export value',5)\n",
    "display(Markdown('<h3>f.) Top 5 Buyers based on number of Commodities Exported</h3>'),f.T,Markdown('<br>'))\n",
    "\n",
    "#Top 5 Suppliers based on number of Commodities Imported\n",
    "g = count_x(india_trade,'year','country','import value',5)\n",
    "display(Markdown('<h3>g.) Top 5 Suppliers based on number of Commodities Imported</h3>'),g.T,Markdown('<br>'))\n",
    "\n",
    "#Top 5 Buyers with Highest Positive Growth from 2015 to 2020\n",
    "h = gain(india_trade,'year','country','export value',desc,5)\n",
    "display(Markdown('<h3>h.) Top 5 Buyers with Highest Positive Growth from 2015 to 2020</h3>'),h,Markdown('<br>'))\n",
    "\n",
    "#Top 5 Sellers with Highest Negative Growth from 2015 to 2020\n",
    "i = gain(india_trade,'year','country','import value',asc,5)\n",
    "display(Markdown('<h3>i.) Top 5 Sellers with Highest Negative Growth from 2015 to 2020</h3>'),i,Markdown('<br>'))"
   ]
  },
  {
   "cell_type": "markdown",
   "metadata": {},
   "source": [
    "## 6.3 Main Commodities"
   ]
  },
  {
   "cell_type": "code",
   "execution_count": 24,
   "metadata": {},
   "outputs": [
    {
     "data": {
      "text/markdown": [
       "<h3>j.) Top 5 Commodities Based on % of Imports</h3>"
      ],
      "text/plain": [
       "<IPython.core.display.Markdown object>"
      ]
     },
     "metadata": {},
     "output_type": "display_data"
    },
    {
     "data": {
      "text/html": [
       "<div>\n",
       "<style scoped>\n",
       "    .dataframe tbody tr th:only-of-type {\n",
       "        vertical-align: middle;\n",
       "    }\n",
       "\n",
       "    .dataframe tbody tr th {\n",
       "        vertical-align: top;\n",
       "    }\n",
       "\n",
       "    .dataframe thead th {\n",
       "        text-align: right;\n",
       "    }\n",
       "</style>\n",
       "<table border=\"1\" class=\"dataframe\">\n",
       "  <thead>\n",
       "    <tr style=\"text-align: right;\">\n",
       "      <th>year</th>\n",
       "      <th>2015</th>\n",
       "      <th>2016</th>\n",
       "      <th>2017</th>\n",
       "      <th>2018</th>\n",
       "      <th>2019</th>\n",
       "      <th>2020</th>\n",
       "    </tr>\n",
       "  </thead>\n",
       "  <tbody>\n",
       "    <tr>\n",
       "      <th>1) commodity of import</th>\n",
       "      <td>PETROLEUM: CRUDE</td>\n",
       "      <td>PETROLEUM: CRUDE</td>\n",
       "      <td>PETROLEUM: CRUDE</td>\n",
       "      <td>PETROLEUM: CRUDE</td>\n",
       "      <td>PETROLEUM: CRUDE</td>\n",
       "      <td>PETROLEUM: CRUDE</td>\n",
       "    </tr>\n",
       "    <tr>\n",
       "      <th>1) import value</th>\n",
       "      <td>116443</td>\n",
       "      <td>65923</td>\n",
       "      <td>70716.9</td>\n",
       "      <td>87372.2</td>\n",
       "      <td>114042</td>\n",
       "      <td>102749</td>\n",
       "    </tr>\n",
       "    <tr>\n",
       "      <th>1) % of total import</th>\n",
       "      <td>25.99</td>\n",
       "      <td>7.952</td>\n",
       "      <td>5.836</td>\n",
       "      <td>5.209</td>\n",
       "      <td>5.204</td>\n",
       "      <td>3.854</td>\n",
       "    </tr>\n",
       "    <tr>\n",
       "      <th>2) commodity of import</th>\n",
       "      <td>GOLD</td>\n",
       "      <td>GOLD</td>\n",
       "      <td>GOLD</td>\n",
       "      <td>PEARL, PRECS, SEMIPRECS STONES</td>\n",
       "      <td>GOLD</td>\n",
       "      <td>GOLD</td>\n",
       "    </tr>\n",
       "    <tr>\n",
       "      <th>2) import value</th>\n",
       "      <td>34407.2</td>\n",
       "      <td>31770.7</td>\n",
       "      <td>27509.8</td>\n",
       "      <td>34278.9</td>\n",
       "      <td>32910.1</td>\n",
       "      <td>28229.7</td>\n",
       "    </tr>\n",
       "    <tr>\n",
       "      <th>2) % of total import</th>\n",
       "      <td>7.68</td>\n",
       "      <td>3.832</td>\n",
       "      <td>2.27</td>\n",
       "      <td>2.044</td>\n",
       "      <td>1.502</td>\n",
       "      <td>1.059</td>\n",
       "    </tr>\n",
       "    <tr>\n",
       "      <th>3) commodity of import</th>\n",
       "      <td>PEARL, PRECS, SEMIPRECS STONES</td>\n",
       "      <td>PEARL, PRECS, SEMIPRECS STONES</td>\n",
       "      <td>PEARL, PRECS, SEMIPRECS STONES</td>\n",
       "      <td>GOLD</td>\n",
       "      <td>PEARL, PRECS, SEMIPRECS STONES</td>\n",
       "      <td>PETROLEUM PRODUCTS</td>\n",
       "    </tr>\n",
       "    <tr>\n",
       "      <th>3) import value</th>\n",
       "      <td>22598.2</td>\n",
       "      <td>20069.9</td>\n",
       "      <td>23882.5</td>\n",
       "      <td>33657.2</td>\n",
       "      <td>27075.7</td>\n",
       "      <td>27801.6</td>\n",
       "    </tr>\n",
       "    <tr>\n",
       "      <th>3) % of total import</th>\n",
       "      <td>5.044</td>\n",
       "      <td>2.421</td>\n",
       "      <td>1.971</td>\n",
       "      <td>2.007</td>\n",
       "      <td>1.236</td>\n",
       "      <td>1.043</td>\n",
       "    </tr>\n",
       "    <tr>\n",
       "      <th>4) commodity of import</th>\n",
       "      <td>PETROLEUM PRODUCTS</td>\n",
       "      <td>PETROLEUM PRODUCTS</td>\n",
       "      <td>TELECOM INSTRUMENTS</td>\n",
       "      <td>COAL,COKE AND BRIQUITTES ETC</td>\n",
       "      <td>PETROLEUM PRODUCTS</td>\n",
       "      <td>PEARL, PRECS, SEMIPRECS STONES</td>\n",
       "    </tr>\n",
       "    <tr>\n",
       "      <th>4) import value</th>\n",
       "      <td>21882.7</td>\n",
       "      <td>17021.5</td>\n",
       "      <td>16560.8</td>\n",
       "      <td>22901.2</td>\n",
       "      <td>26878.5</td>\n",
       "      <td>22458.8</td>\n",
       "    </tr>\n",
       "    <tr>\n",
       "      <th>4) % of total import</th>\n",
       "      <td>4.884</td>\n",
       "      <td>2.053</td>\n",
       "      <td>1.367</td>\n",
       "      <td>1.365</td>\n",
       "      <td>1.227</td>\n",
       "      <td>0.842</td>\n",
       "    </tr>\n",
       "    <tr>\n",
       "      <th>5) commodity of import</th>\n",
       "      <td>COAL,COKE AND BRIQUITTES ETC</td>\n",
       "      <td>TELECOM INSTRUMENTS</td>\n",
       "      <td>PETROLEUM PRODUCTS</td>\n",
       "      <td>TELECOM INSTRUMENTS</td>\n",
       "      <td>COAL,COKE AND BRIQUITTES ETC</td>\n",
       "      <td>COAL,COKE AND BRIQUITTES ETC</td>\n",
       "    </tr>\n",
       "    <tr>\n",
       "      <th>5) import value</th>\n",
       "      <td>17802.6</td>\n",
       "      <td>15402.6</td>\n",
       "      <td>16148.8</td>\n",
       "      <td>21848.4</td>\n",
       "      <td>26177.8</td>\n",
       "      <td>22455.1</td>\n",
       "    </tr>\n",
       "    <tr>\n",
       "      <th>5) % of total import</th>\n",
       "      <td>3.973</td>\n",
       "      <td>1.858</td>\n",
       "      <td>1.333</td>\n",
       "      <td>1.303</td>\n",
       "      <td>1.195</td>\n",
       "      <td>0.842</td>\n",
       "    </tr>\n",
       "  </tbody>\n",
       "</table>\n",
       "</div>"
      ],
      "text/plain": [
       "year                                              2015  \\\n",
       "1) commodity of import                PETROLEUM: CRUDE   \n",
       "1) import value                                 116443   \n",
       "1) % of total import                             25.99   \n",
       "2) commodity of import                            GOLD   \n",
       "2) import value                                34407.2   \n",
       "2) % of total import                              7.68   \n",
       "3) commodity of import  PEARL, PRECS, SEMIPRECS STONES   \n",
       "3) import value                                22598.2   \n",
       "3) % of total import                             5.044   \n",
       "4) commodity of import              PETROLEUM PRODUCTS   \n",
       "4) import value                                21882.7   \n",
       "4) % of total import                             4.884   \n",
       "5) commodity of import    COAL,COKE AND BRIQUITTES ETC   \n",
       "5) import value                                17802.6   \n",
       "5) % of total import                             3.973   \n",
       "\n",
       "year                                              2016  \\\n",
       "1) commodity of import                PETROLEUM: CRUDE   \n",
       "1) import value                                  65923   \n",
       "1) % of total import                             7.952   \n",
       "2) commodity of import                            GOLD   \n",
       "2) import value                                31770.7   \n",
       "2) % of total import                             3.832   \n",
       "3) commodity of import  PEARL, PRECS, SEMIPRECS STONES   \n",
       "3) import value                                20069.9   \n",
       "3) % of total import                             2.421   \n",
       "4) commodity of import              PETROLEUM PRODUCTS   \n",
       "4) import value                                17021.5   \n",
       "4) % of total import                             2.053   \n",
       "5) commodity of import             TELECOM INSTRUMENTS   \n",
       "5) import value                                15402.6   \n",
       "5) % of total import                             1.858   \n",
       "\n",
       "year                                              2017  \\\n",
       "1) commodity of import                PETROLEUM: CRUDE   \n",
       "1) import value                                70716.9   \n",
       "1) % of total import                             5.836   \n",
       "2) commodity of import                            GOLD   \n",
       "2) import value                                27509.8   \n",
       "2) % of total import                              2.27   \n",
       "3) commodity of import  PEARL, PRECS, SEMIPRECS STONES   \n",
       "3) import value                                23882.5   \n",
       "3) % of total import                             1.971   \n",
       "4) commodity of import             TELECOM INSTRUMENTS   \n",
       "4) import value                                16560.8   \n",
       "4) % of total import                             1.367   \n",
       "5) commodity of import              PETROLEUM PRODUCTS   \n",
       "5) import value                                16148.8   \n",
       "5) % of total import                             1.333   \n",
       "\n",
       "year                                              2018  \\\n",
       "1) commodity of import                PETROLEUM: CRUDE   \n",
       "1) import value                                87372.2   \n",
       "1) % of total import                             5.209   \n",
       "2) commodity of import  PEARL, PRECS, SEMIPRECS STONES   \n",
       "2) import value                                34278.9   \n",
       "2) % of total import                             2.044   \n",
       "3) commodity of import                            GOLD   \n",
       "3) import value                                33657.2   \n",
       "3) % of total import                             2.007   \n",
       "4) commodity of import    COAL,COKE AND BRIQUITTES ETC   \n",
       "4) import value                                22901.2   \n",
       "4) % of total import                             1.365   \n",
       "5) commodity of import             TELECOM INSTRUMENTS   \n",
       "5) import value                                21848.4   \n",
       "5) % of total import                             1.303   \n",
       "\n",
       "year                                              2019  \\\n",
       "1) commodity of import                PETROLEUM: CRUDE   \n",
       "1) import value                                 114042   \n",
       "1) % of total import                             5.204   \n",
       "2) commodity of import                            GOLD   \n",
       "2) import value                                32910.1   \n",
       "2) % of total import                             1.502   \n",
       "3) commodity of import  PEARL, PRECS, SEMIPRECS STONES   \n",
       "3) import value                                27075.7   \n",
       "3) % of total import                             1.236   \n",
       "4) commodity of import              PETROLEUM PRODUCTS   \n",
       "4) import value                                26878.5   \n",
       "4) % of total import                             1.227   \n",
       "5) commodity of import    COAL,COKE AND BRIQUITTES ETC   \n",
       "5) import value                                26177.8   \n",
       "5) % of total import                             1.195   \n",
       "\n",
       "year                                              2020  \n",
       "1) commodity of import                PETROLEUM: CRUDE  \n",
       "1) import value                                 102749  \n",
       "1) % of total import                             3.854  \n",
       "2) commodity of import                            GOLD  \n",
       "2) import value                                28229.7  \n",
       "2) % of total import                             1.059  \n",
       "3) commodity of import              PETROLEUM PRODUCTS  \n",
       "3) import value                                27801.6  \n",
       "3) % of total import                             1.043  \n",
       "4) commodity of import  PEARL, PRECS, SEMIPRECS STONES  \n",
       "4) import value                                22458.8  \n",
       "4) % of total import                             0.842  \n",
       "5) commodity of import    COAL,COKE AND BRIQUITTES ETC  \n",
       "5) import value                                22455.1  \n",
       "5) % of total import                             0.842  "
      ]
     },
     "metadata": {},
     "output_type": "display_data"
    },
    {
     "data": {
      "text/markdown": [
       "<br>"
      ],
      "text/plain": [
       "<IPython.core.display.Markdown object>"
      ]
     },
     "metadata": {},
     "output_type": "display_data"
    },
    {
     "data": {
      "text/markdown": [
       "<h3>k.) Top 5 Commodities Based on % of Exports</h3>"
      ],
      "text/plain": [
       "<IPython.core.display.Markdown object>"
      ]
     },
     "metadata": {},
     "output_type": "display_data"
    },
    {
     "data": {
      "text/html": [
       "<div>\n",
       "<style scoped>\n",
       "    .dataframe tbody tr th:only-of-type {\n",
       "        vertical-align: middle;\n",
       "    }\n",
       "\n",
       "    .dataframe tbody tr th {\n",
       "        vertical-align: top;\n",
       "    }\n",
       "\n",
       "    .dataframe thead th {\n",
       "        text-align: right;\n",
       "    }\n",
       "</style>\n",
       "<table border=\"1\" class=\"dataframe\">\n",
       "  <thead>\n",
       "    <tr style=\"text-align: right;\">\n",
       "      <th>year</th>\n",
       "      <th>2015</th>\n",
       "      <th>2016</th>\n",
       "      <th>2017</th>\n",
       "      <th>2018</th>\n",
       "      <th>2019</th>\n",
       "      <th>2020</th>\n",
       "    </tr>\n",
       "  </thead>\n",
       "  <tbody>\n",
       "    <tr>\n",
       "      <th>1) commodity of export</th>\n",
       "      <td>PETROLEUM PRODUCTS</td>\n",
       "      <td>PETROLEUM PRODUCTS</td>\n",
       "      <td>PETROLEUM PRODUCTS</td>\n",
       "      <td>PETROLEUM PRODUCTS</td>\n",
       "      <td>PETROLEUM PRODUCTS</td>\n",
       "      <td>PETROLEUM PRODUCTS</td>\n",
       "    </tr>\n",
       "    <tr>\n",
       "      <th>1) export value</th>\n",
       "      <td>56794.2</td>\n",
       "      <td>30582.7</td>\n",
       "      <td>31622.3</td>\n",
       "      <td>37465.1</td>\n",
       "      <td>46553.6</td>\n",
       "      <td>41288.8</td>\n",
       "    </tr>\n",
       "    <tr>\n",
       "      <th>1) % of total export</th>\n",
       "      <td>18.3</td>\n",
       "      <td>5.341</td>\n",
       "      <td>3.724</td>\n",
       "      <td>3.25</td>\n",
       "      <td>3.14</td>\n",
       "      <td>2.299</td>\n",
       "    </tr>\n",
       "    <tr>\n",
       "      <th>2) commodity of export</th>\n",
       "      <td>PEARL, PRECS, SEMIPRECS STONES</td>\n",
       "      <td>PEARL, PRECS, SEMIPRECS STONES</td>\n",
       "      <td>PEARL, PRECS, SEMIPRECS STONES</td>\n",
       "      <td>PEARL, PRECS, SEMIPRECS STONES</td>\n",
       "      <td>PEARL, PRECS, SEMIPRECS STONES</td>\n",
       "      <td>PEARL, PRECS, SEMIPRECS STONES</td>\n",
       "    </tr>\n",
       "    <tr>\n",
       "      <th>2) export value</th>\n",
       "      <td>24758.8</td>\n",
       "      <td>22297.3</td>\n",
       "      <td>25038.5</td>\n",
       "      <td>25871.7</td>\n",
       "      <td>25972</td>\n",
       "      <td>20692.5</td>\n",
       "    </tr>\n",
       "    <tr>\n",
       "      <th>2) % of total export</th>\n",
       "      <td>7.978</td>\n",
       "      <td>3.894</td>\n",
       "      <td>2.949</td>\n",
       "      <td>2.244</td>\n",
       "      <td>1.752</td>\n",
       "      <td>1.152</td>\n",
       "    </tr>\n",
       "    <tr>\n",
       "      <th>3) commodity of export</th>\n",
       "      <td>GOLD AND OTH PRECS METL JWLERY</td>\n",
       "      <td>DRUG FORMULATIONS, BIOLOGICALS</td>\n",
       "      <td>DRUG FORMULATIONS, BIOLOGICALS</td>\n",
       "      <td>DRUG FORMULATIONS, BIOLOGICALS</td>\n",
       "      <td>DRUG FORMULATIONS, BIOLOGICALS</td>\n",
       "      <td>DRUG FORMULATIONS, BIOLOGICALS</td>\n",
       "    </tr>\n",
       "    <tr>\n",
       "      <th>3) export value</th>\n",
       "      <td>13242.4</td>\n",
       "      <td>12647.8</td>\n",
       "      <td>12697.4</td>\n",
       "      <td>12909</td>\n",
       "      <td>14388.8</td>\n",
       "      <td>15940.7</td>\n",
       "    </tr>\n",
       "    <tr>\n",
       "      <th>3) % of total export</th>\n",
       "      <td>4.267</td>\n",
       "      <td>2.209</td>\n",
       "      <td>1.495</td>\n",
       "      <td>1.12</td>\n",
       "      <td>0.97</td>\n",
       "      <td>0.887</td>\n",
       "    </tr>\n",
       "    <tr>\n",
       "      <th>4) commodity of export</th>\n",
       "      <td>DRUG FORMULATIONS, BIOLOGICALS</td>\n",
       "      <td>GOLD AND OTH PRECS METL JWLERY</td>\n",
       "      <td>GOLD AND OTH PRECS METL JWLERY</td>\n",
       "      <td>GOLD AND OTH PRECS METL JWLERY</td>\n",
       "      <td>GOLD AND OTH PRECS METL JWLERY</td>\n",
       "      <td>GOLD AND OTH PRECS METL JWLERY</td>\n",
       "    </tr>\n",
       "    <tr>\n",
       "      <th>4) export value</th>\n",
       "      <td>11215.9</td>\n",
       "      <td>10958</td>\n",
       "      <td>12691.1</td>\n",
       "      <td>12807.3</td>\n",
       "      <td>12948.4</td>\n",
       "      <td>13745.2</td>\n",
       "    </tr>\n",
       "    <tr>\n",
       "      <th>4) % of total export</th>\n",
       "      <td>3.614</td>\n",
       "      <td>1.914</td>\n",
       "      <td>1.494</td>\n",
       "      <td>1.111</td>\n",
       "      <td>0.873</td>\n",
       "      <td>0.765</td>\n",
       "    </tr>\n",
       "    <tr>\n",
       "      <th>5) commodity of export</th>\n",
       "      <td>RMG COTTON INCL ACCESSORIES</td>\n",
       "      <td>RMG COTTON INCL ACCESSORIES</td>\n",
       "      <td>IRON AND STEEL</td>\n",
       "      <td>IRON AND STEEL</td>\n",
       "      <td>IRON AND STEEL</td>\n",
       "      <td>IRON AND STEEL</td>\n",
       "    </tr>\n",
       "    <tr>\n",
       "      <th>5) export value</th>\n",
       "      <td>9282.83</td>\n",
       "      <td>9091.55</td>\n",
       "      <td>8730.26</td>\n",
       "      <td>11244.7</td>\n",
       "      <td>9742.01</td>\n",
       "      <td>9277.53</td>\n",
       "    </tr>\n",
       "    <tr>\n",
       "      <th>5) % of total export</th>\n",
       "      <td>2.991</td>\n",
       "      <td>1.588</td>\n",
       "      <td>1.028</td>\n",
       "      <td>0.976</td>\n",
       "      <td>0.657</td>\n",
       "      <td>0.517</td>\n",
       "    </tr>\n",
       "  </tbody>\n",
       "</table>\n",
       "</div>"
      ],
      "text/plain": [
       "year                                              2015  \\\n",
       "1) commodity of export              PETROLEUM PRODUCTS   \n",
       "1) export value                                56794.2   \n",
       "1) % of total export                              18.3   \n",
       "2) commodity of export  PEARL, PRECS, SEMIPRECS STONES   \n",
       "2) export value                                24758.8   \n",
       "2) % of total export                             7.978   \n",
       "3) commodity of export  GOLD AND OTH PRECS METL JWLERY   \n",
       "3) export value                                13242.4   \n",
       "3) % of total export                             4.267   \n",
       "4) commodity of export  DRUG FORMULATIONS, BIOLOGICALS   \n",
       "4) export value                                11215.9   \n",
       "4) % of total export                             3.614   \n",
       "5) commodity of export     RMG COTTON INCL ACCESSORIES   \n",
       "5) export value                                9282.83   \n",
       "5) % of total export                             2.991   \n",
       "\n",
       "year                                              2016  \\\n",
       "1) commodity of export              PETROLEUM PRODUCTS   \n",
       "1) export value                                30582.7   \n",
       "1) % of total export                             5.341   \n",
       "2) commodity of export  PEARL, PRECS, SEMIPRECS STONES   \n",
       "2) export value                                22297.3   \n",
       "2) % of total export                             3.894   \n",
       "3) commodity of export  DRUG FORMULATIONS, BIOLOGICALS   \n",
       "3) export value                                12647.8   \n",
       "3) % of total export                             2.209   \n",
       "4) commodity of export  GOLD AND OTH PRECS METL JWLERY   \n",
       "4) export value                                  10958   \n",
       "4) % of total export                             1.914   \n",
       "5) commodity of export     RMG COTTON INCL ACCESSORIES   \n",
       "5) export value                                9091.55   \n",
       "5) % of total export                             1.588   \n",
       "\n",
       "year                                              2017  \\\n",
       "1) commodity of export              PETROLEUM PRODUCTS   \n",
       "1) export value                                31622.3   \n",
       "1) % of total export                             3.724   \n",
       "2) commodity of export  PEARL, PRECS, SEMIPRECS STONES   \n",
       "2) export value                                25038.5   \n",
       "2) % of total export                             2.949   \n",
       "3) commodity of export  DRUG FORMULATIONS, BIOLOGICALS   \n",
       "3) export value                                12697.4   \n",
       "3) % of total export                             1.495   \n",
       "4) commodity of export  GOLD AND OTH PRECS METL JWLERY   \n",
       "4) export value                                12691.1   \n",
       "4) % of total export                             1.494   \n",
       "5) commodity of export                  IRON AND STEEL   \n",
       "5) export value                                8730.26   \n",
       "5) % of total export                             1.028   \n",
       "\n",
       "year                                              2018  \\\n",
       "1) commodity of export              PETROLEUM PRODUCTS   \n",
       "1) export value                                37465.1   \n",
       "1) % of total export                              3.25   \n",
       "2) commodity of export  PEARL, PRECS, SEMIPRECS STONES   \n",
       "2) export value                                25871.7   \n",
       "2) % of total export                             2.244   \n",
       "3) commodity of export  DRUG FORMULATIONS, BIOLOGICALS   \n",
       "3) export value                                  12909   \n",
       "3) % of total export                              1.12   \n",
       "4) commodity of export  GOLD AND OTH PRECS METL JWLERY   \n",
       "4) export value                                12807.3   \n",
       "4) % of total export                             1.111   \n",
       "5) commodity of export                  IRON AND STEEL   \n",
       "5) export value                                11244.7   \n",
       "5) % of total export                             0.976   \n",
       "\n",
       "year                                              2019  \\\n",
       "1) commodity of export              PETROLEUM PRODUCTS   \n",
       "1) export value                                46553.6   \n",
       "1) % of total export                              3.14   \n",
       "2) commodity of export  PEARL, PRECS, SEMIPRECS STONES   \n",
       "2) export value                                  25972   \n",
       "2) % of total export                             1.752   \n",
       "3) commodity of export  DRUG FORMULATIONS, BIOLOGICALS   \n",
       "3) export value                                14388.8   \n",
       "3) % of total export                              0.97   \n",
       "4) commodity of export  GOLD AND OTH PRECS METL JWLERY   \n",
       "4) export value                                12948.4   \n",
       "4) % of total export                             0.873   \n",
       "5) commodity of export                  IRON AND STEEL   \n",
       "5) export value                                9742.01   \n",
       "5) % of total export                             0.657   \n",
       "\n",
       "year                                              2020  \n",
       "1) commodity of export              PETROLEUM PRODUCTS  \n",
       "1) export value                                41288.8  \n",
       "1) % of total export                             2.299  \n",
       "2) commodity of export  PEARL, PRECS, SEMIPRECS STONES  \n",
       "2) export value                                20692.5  \n",
       "2) % of total export                             1.152  \n",
       "3) commodity of export  DRUG FORMULATIONS, BIOLOGICALS  \n",
       "3) export value                                15940.7  \n",
       "3) % of total export                             0.887  \n",
       "4) commodity of export  GOLD AND OTH PRECS METL JWLERY  \n",
       "4) export value                                13745.2  \n",
       "4) % of total export                             0.765  \n",
       "5) commodity of export                  IRON AND STEEL  \n",
       "5) export value                                9277.53  \n",
       "5) % of total export                             0.517  "
      ]
     },
     "metadata": {},
     "output_type": "display_data"
    },
    {
     "data": {
      "text/markdown": [
       "<br>"
      ],
      "text/plain": [
       "<IPython.core.display.Markdown object>"
      ]
     },
     "metadata": {},
     "output_type": "display_data"
    },
    {
     "data": {
      "text/markdown": [
       "<h3>l.) Top 5 Export Commodities based on number of Buyers</h3>"
      ],
      "text/plain": [
       "<IPython.core.display.Markdown object>"
      ]
     },
     "metadata": {},
     "output_type": "display_data"
    },
    {
     "data": {
      "text/html": [
       "<div>\n",
       "<style scoped>\n",
       "    .dataframe tbody tr th:only-of-type {\n",
       "        vertical-align: middle;\n",
       "    }\n",
       "\n",
       "    .dataframe tbody tr th {\n",
       "        vertical-align: top;\n",
       "    }\n",
       "\n",
       "    .dataframe thead th {\n",
       "        text-align: right;\n",
       "    }\n",
       "</style>\n",
       "<table border=\"1\" class=\"dataframe\">\n",
       "  <thead>\n",
       "    <tr style=\"text-align: right;\">\n",
       "      <th>year</th>\n",
       "      <th>2015</th>\n",
       "      <th>2016</th>\n",
       "      <th>2017</th>\n",
       "      <th>2018</th>\n",
       "      <th>2019</th>\n",
       "      <th>2020</th>\n",
       "    </tr>\n",
       "  </thead>\n",
       "  <tbody>\n",
       "    <tr>\n",
       "      <th>1) commodity</th>\n",
       "      <td>COTTON FABRICS, MADEUPS ETC.</td>\n",
       "      <td>OTHER COMMODITIES</td>\n",
       "      <td>DRUG FORMULATIONS, BIOLOGICALS</td>\n",
       "      <td>DRUG FORMULATIONS, BIOLOGICALS</td>\n",
       "      <td>DRUG FORMULATIONS, BIOLOGICALS</td>\n",
       "      <td>DRUG FORMULATIONS, BIOLOGICALS</td>\n",
       "    </tr>\n",
       "    <tr>\n",
       "      <th>1) number of countries traded with</th>\n",
       "      <td>207</td>\n",
       "      <td>209</td>\n",
       "      <td>209</td>\n",
       "      <td>202</td>\n",
       "      <td>210</td>\n",
       "      <td>204</td>\n",
       "    </tr>\n",
       "    <tr>\n",
       "      <th>2) commodity</th>\n",
       "      <td>OTHER COMMODITIES</td>\n",
       "      <td>DRUG FORMULATIONS, BIOLOGICALS</td>\n",
       "      <td>OTHER COMMODITIES</td>\n",
       "      <td>COTTON FABRICS, MADEUPS ETC.</td>\n",
       "      <td>PRODUCTS OF IRON AND STEEL</td>\n",
       "      <td>COTTON FABRICS, MADEUPS ETC.</td>\n",
       "    </tr>\n",
       "    <tr>\n",
       "      <th>2) number of countries traded with</th>\n",
       "      <td>207</td>\n",
       "      <td>206</td>\n",
       "      <td>208</td>\n",
       "      <td>196</td>\n",
       "      <td>205</td>\n",
       "      <td>197</td>\n",
       "    </tr>\n",
       "    <tr>\n",
       "      <th>3) commodity</th>\n",
       "      <td>DRUG FORMULATIONS, BIOLOGICALS</td>\n",
       "      <td>RMG COTTON INCL ACCESSORIES</td>\n",
       "      <td>PRODUCTS OF IRON AND STEEL</td>\n",
       "      <td>OTHER COMMODITIES</td>\n",
       "      <td>COTTON FABRICS, MADEUPS ETC.</td>\n",
       "      <td>OTHER COMMODITIES</td>\n",
       "    </tr>\n",
       "    <tr>\n",
       "      <th>3) number of countries traded with</th>\n",
       "      <td>205</td>\n",
       "      <td>203</td>\n",
       "      <td>203</td>\n",
       "      <td>195</td>\n",
       "      <td>204</td>\n",
       "      <td>196</td>\n",
       "    </tr>\n",
       "    <tr>\n",
       "      <th>4) commodity</th>\n",
       "      <td>RMG COTTON INCL ACCESSORIES</td>\n",
       "      <td>PRODUCTS OF IRON AND STEEL</td>\n",
       "      <td>COTTON FABRICS, MADEUPS ETC.</td>\n",
       "      <td>RMG COTTON INCL ACCESSORIES</td>\n",
       "      <td>OTHER COMMODITIES</td>\n",
       "      <td>HANDCRFS(EXCL.HANDMADE CRPTS)</td>\n",
       "    </tr>\n",
       "    <tr>\n",
       "      <th>4) number of countries traded with</th>\n",
       "      <td>201</td>\n",
       "      <td>202</td>\n",
       "      <td>203</td>\n",
       "      <td>191</td>\n",
       "      <td>203</td>\n",
       "      <td>193</td>\n",
       "    </tr>\n",
       "    <tr>\n",
       "      <th>5) commodity</th>\n",
       "      <td>ELECTRIC MACHINERY AND EQUIPME</td>\n",
       "      <td>OTHER MISC. ENGINEERING ITEMS</td>\n",
       "      <td>HANDCRFS(EXCL.HANDMADE CRPTS)</td>\n",
       "      <td>INDL. MACHNRY FOR DAIRY ETC</td>\n",
       "      <td>RMG COTTON INCL ACCESSORIES</td>\n",
       "      <td>CERAMICS AND ALLIED PRODUCTS</td>\n",
       "    </tr>\n",
       "    <tr>\n",
       "      <th>5) number of countries traded with</th>\n",
       "      <td>199</td>\n",
       "      <td>202</td>\n",
       "      <td>202</td>\n",
       "      <td>188</td>\n",
       "      <td>202</td>\n",
       "      <td>192</td>\n",
       "    </tr>\n",
       "  </tbody>\n",
       "</table>\n",
       "</div>"
      ],
      "text/plain": [
       "year                                                          2015  \\\n",
       "1) commodity                          COTTON FABRICS, MADEUPS ETC.   \n",
       "1) number of countries traded with                             207   \n",
       "2) commodity                                     OTHER COMMODITIES   \n",
       "2) number of countries traded with                             207   \n",
       "3) commodity                        DRUG FORMULATIONS, BIOLOGICALS   \n",
       "3) number of countries traded with                             205   \n",
       "4) commodity                           RMG COTTON INCL ACCESSORIES   \n",
       "4) number of countries traded with                             201   \n",
       "5) commodity                        ELECTRIC MACHINERY AND EQUIPME   \n",
       "5) number of countries traded with                             199   \n",
       "\n",
       "year                                                          2016  \\\n",
       "1) commodity                                     OTHER COMMODITIES   \n",
       "1) number of countries traded with                             209   \n",
       "2) commodity                        DRUG FORMULATIONS, BIOLOGICALS   \n",
       "2) number of countries traded with                             206   \n",
       "3) commodity                           RMG COTTON INCL ACCESSORIES   \n",
       "3) number of countries traded with                             203   \n",
       "4) commodity                            PRODUCTS OF IRON AND STEEL   \n",
       "4) number of countries traded with                             202   \n",
       "5) commodity                         OTHER MISC. ENGINEERING ITEMS   \n",
       "5) number of countries traded with                             202   \n",
       "\n",
       "year                                                          2017  \\\n",
       "1) commodity                        DRUG FORMULATIONS, BIOLOGICALS   \n",
       "1) number of countries traded with                             209   \n",
       "2) commodity                                     OTHER COMMODITIES   \n",
       "2) number of countries traded with                             208   \n",
       "3) commodity                            PRODUCTS OF IRON AND STEEL   \n",
       "3) number of countries traded with                             203   \n",
       "4) commodity                          COTTON FABRICS, MADEUPS ETC.   \n",
       "4) number of countries traded with                             203   \n",
       "5) commodity                         HANDCRFS(EXCL.HANDMADE CRPTS)   \n",
       "5) number of countries traded with                             202   \n",
       "\n",
       "year                                                          2018  \\\n",
       "1) commodity                        DRUG FORMULATIONS, BIOLOGICALS   \n",
       "1) number of countries traded with                             202   \n",
       "2) commodity                          COTTON FABRICS, MADEUPS ETC.   \n",
       "2) number of countries traded with                             196   \n",
       "3) commodity                                     OTHER COMMODITIES   \n",
       "3) number of countries traded with                             195   \n",
       "4) commodity                           RMG COTTON INCL ACCESSORIES   \n",
       "4) number of countries traded with                             191   \n",
       "5) commodity                           INDL. MACHNRY FOR DAIRY ETC   \n",
       "5) number of countries traded with                             188   \n",
       "\n",
       "year                                                          2019  \\\n",
       "1) commodity                        DRUG FORMULATIONS, BIOLOGICALS   \n",
       "1) number of countries traded with                             210   \n",
       "2) commodity                            PRODUCTS OF IRON AND STEEL   \n",
       "2) number of countries traded with                             205   \n",
       "3) commodity                          COTTON FABRICS, MADEUPS ETC.   \n",
       "3) number of countries traded with                             204   \n",
       "4) commodity                                     OTHER COMMODITIES   \n",
       "4) number of countries traded with                             203   \n",
       "5) commodity                           RMG COTTON INCL ACCESSORIES   \n",
       "5) number of countries traded with                             202   \n",
       "\n",
       "year                                                          2020  \n",
       "1) commodity                        DRUG FORMULATIONS, BIOLOGICALS  \n",
       "1) number of countries traded with                             204  \n",
       "2) commodity                          COTTON FABRICS, MADEUPS ETC.  \n",
       "2) number of countries traded with                             197  \n",
       "3) commodity                                     OTHER COMMODITIES  \n",
       "3) number of countries traded with                             196  \n",
       "4) commodity                         HANDCRFS(EXCL.HANDMADE CRPTS)  \n",
       "4) number of countries traded with                             193  \n",
       "5) commodity                          CERAMICS AND ALLIED PRODUCTS  \n",
       "5) number of countries traded with                             192  "
      ]
     },
     "metadata": {},
     "output_type": "display_data"
    },
    {
     "data": {
      "text/markdown": [
       "<br>"
      ],
      "text/plain": [
       "<IPython.core.display.Markdown object>"
      ]
     },
     "metadata": {},
     "output_type": "display_data"
    },
    {
     "data": {
      "text/markdown": [
       "<h3>m.) Top 5 Import Commodites based on number of Suppliers</h3>"
      ],
      "text/plain": [
       "<IPython.core.display.Markdown object>"
      ]
     },
     "metadata": {},
     "output_type": "display_data"
    },
    {
     "data": {
      "text/html": [
       "<div>\n",
       "<style scoped>\n",
       "    .dataframe tbody tr th:only-of-type {\n",
       "        vertical-align: middle;\n",
       "    }\n",
       "\n",
       "    .dataframe tbody tr th {\n",
       "        vertical-align: top;\n",
       "    }\n",
       "\n",
       "    .dataframe thead th {\n",
       "        text-align: right;\n",
       "    }\n",
       "</style>\n",
       "<table border=\"1\" class=\"dataframe\">\n",
       "  <thead>\n",
       "    <tr style=\"text-align: right;\">\n",
       "      <th>year</th>\n",
       "      <th>2015</th>\n",
       "      <th>2016</th>\n",
       "      <th>2017</th>\n",
       "      <th>2018</th>\n",
       "      <th>2019</th>\n",
       "      <th>2020</th>\n",
       "    </tr>\n",
       "  </thead>\n",
       "  <tbody>\n",
       "    <tr>\n",
       "      <th>1) commodity</th>\n",
       "      <td>OTHER COMMODITIES</td>\n",
       "      <td>OTHER COMMODITIES</td>\n",
       "      <td>OTHER COMMODITIES</td>\n",
       "      <td>OTHER COMMODITIES</td>\n",
       "      <td>OTHER COMMODITIES</td>\n",
       "      <td>OTHER COMMODITIES</td>\n",
       "    </tr>\n",
       "    <tr>\n",
       "      <th>1) number of countries traded with</th>\n",
       "      <td>179</td>\n",
       "      <td>186</td>\n",
       "      <td>175</td>\n",
       "      <td>151</td>\n",
       "      <td>164</td>\n",
       "      <td>160</td>\n",
       "    </tr>\n",
       "    <tr>\n",
       "      <th>2) commodity</th>\n",
       "      <td>IRON AND STEEL</td>\n",
       "      <td>IRON AND STEEL</td>\n",
       "      <td>IRON AND STEEL</td>\n",
       "      <td>ALUMINIUM, PRODUCTS OF ALUMINM</td>\n",
       "      <td>IRON AND STEEL</td>\n",
       "      <td>IRON AND STEEL</td>\n",
       "    </tr>\n",
       "    <tr>\n",
       "      <th>2) number of countries traded with</th>\n",
       "      <td>148</td>\n",
       "      <td>149</td>\n",
       "      <td>143</td>\n",
       "      <td>144</td>\n",
       "      <td>160</td>\n",
       "      <td>155</td>\n",
       "    </tr>\n",
       "    <tr>\n",
       "      <th>3) commodity</th>\n",
       "      <td>ALUMINIUM, PRODUCTS OF ALUMINM</td>\n",
       "      <td>ALUMINIUM, PRODUCTS OF ALUMINM</td>\n",
       "      <td>ALUMINIUM, PRODUCTS OF ALUMINM</td>\n",
       "      <td>IRON AND STEEL</td>\n",
       "      <td>ALUMINIUM, PRODUCTS OF ALUMINM</td>\n",
       "      <td>ALUMINIUM, PRODUCTS OF ALUMINM</td>\n",
       "    </tr>\n",
       "    <tr>\n",
       "      <th>3) number of countries traded with</th>\n",
       "      <td>137</td>\n",
       "      <td>144</td>\n",
       "      <td>143</td>\n",
       "      <td>144</td>\n",
       "      <td>153</td>\n",
       "      <td>139</td>\n",
       "    </tr>\n",
       "    <tr>\n",
       "      <th>4) commodity</th>\n",
       "      <td>PAPER, PAPER BOARD AND PRODUCT</td>\n",
       "      <td>ELECTRIC MACHINERY AND EQUIPME</td>\n",
       "      <td>ELECTRIC MACHINERY AND EQUIPME</td>\n",
       "      <td>COPPER AND PRDCTS MADE OF COPR</td>\n",
       "      <td>INDL. MACHNRY FOR DAIRY ETC</td>\n",
       "      <td>INDL. MACHNRY FOR DAIRY ETC</td>\n",
       "    </tr>\n",
       "    <tr>\n",
       "      <th>4) number of countries traded with</th>\n",
       "      <td>135</td>\n",
       "      <td>138</td>\n",
       "      <td>135</td>\n",
       "      <td>121</td>\n",
       "      <td>139</td>\n",
       "      <td>126</td>\n",
       "    </tr>\n",
       "    <tr>\n",
       "      <th>5) commodity</th>\n",
       "      <td>PRODUCTS OF IRON AND STEEL</td>\n",
       "      <td>INDL. MACHNRY FOR DAIRY ETC</td>\n",
       "      <td>PAPER, PAPER BOARD AND PRODUCT</td>\n",
       "      <td>PAPER, PAPER BOARD AND PRODUCT</td>\n",
       "      <td>ELECTRONICS INSTRUMENTS</td>\n",
       "      <td>COPPER AND PRDCTS MADE OF COPR</td>\n",
       "    </tr>\n",
       "    <tr>\n",
       "      <th>5) number of countries traded with</th>\n",
       "      <td>131</td>\n",
       "      <td>134</td>\n",
       "      <td>132</td>\n",
       "      <td>118</td>\n",
       "      <td>133</td>\n",
       "      <td>124</td>\n",
       "    </tr>\n",
       "  </tbody>\n",
       "</table>\n",
       "</div>"
      ],
      "text/plain": [
       "year                                                          2015  \\\n",
       "1) commodity                                     OTHER COMMODITIES   \n",
       "1) number of countries traded with                             179   \n",
       "2) commodity                                        IRON AND STEEL   \n",
       "2) number of countries traded with                             148   \n",
       "3) commodity                        ALUMINIUM, PRODUCTS OF ALUMINM   \n",
       "3) number of countries traded with                             137   \n",
       "4) commodity                        PAPER, PAPER BOARD AND PRODUCT   \n",
       "4) number of countries traded with                             135   \n",
       "5) commodity                            PRODUCTS OF IRON AND STEEL   \n",
       "5) number of countries traded with                             131   \n",
       "\n",
       "year                                                          2016  \\\n",
       "1) commodity                                     OTHER COMMODITIES   \n",
       "1) number of countries traded with                             186   \n",
       "2) commodity                                        IRON AND STEEL   \n",
       "2) number of countries traded with                             149   \n",
       "3) commodity                        ALUMINIUM, PRODUCTS OF ALUMINM   \n",
       "3) number of countries traded with                             144   \n",
       "4) commodity                        ELECTRIC MACHINERY AND EQUIPME   \n",
       "4) number of countries traded with                             138   \n",
       "5) commodity                           INDL. MACHNRY FOR DAIRY ETC   \n",
       "5) number of countries traded with                             134   \n",
       "\n",
       "year                                                          2017  \\\n",
       "1) commodity                                     OTHER COMMODITIES   \n",
       "1) number of countries traded with                             175   \n",
       "2) commodity                                        IRON AND STEEL   \n",
       "2) number of countries traded with                             143   \n",
       "3) commodity                        ALUMINIUM, PRODUCTS OF ALUMINM   \n",
       "3) number of countries traded with                             143   \n",
       "4) commodity                        ELECTRIC MACHINERY AND EQUIPME   \n",
       "4) number of countries traded with                             135   \n",
       "5) commodity                        PAPER, PAPER BOARD AND PRODUCT   \n",
       "5) number of countries traded with                             132   \n",
       "\n",
       "year                                                          2018  \\\n",
       "1) commodity                                     OTHER COMMODITIES   \n",
       "1) number of countries traded with                             151   \n",
       "2) commodity                        ALUMINIUM, PRODUCTS OF ALUMINM   \n",
       "2) number of countries traded with                             144   \n",
       "3) commodity                                        IRON AND STEEL   \n",
       "3) number of countries traded with                             144   \n",
       "4) commodity                        COPPER AND PRDCTS MADE OF COPR   \n",
       "4) number of countries traded with                             121   \n",
       "5) commodity                        PAPER, PAPER BOARD AND PRODUCT   \n",
       "5) number of countries traded with                             118   \n",
       "\n",
       "year                                                          2019  \\\n",
       "1) commodity                                     OTHER COMMODITIES   \n",
       "1) number of countries traded with                             164   \n",
       "2) commodity                                        IRON AND STEEL   \n",
       "2) number of countries traded with                             160   \n",
       "3) commodity                        ALUMINIUM, PRODUCTS OF ALUMINM   \n",
       "3) number of countries traded with                             153   \n",
       "4) commodity                           INDL. MACHNRY FOR DAIRY ETC   \n",
       "4) number of countries traded with                             139   \n",
       "5) commodity                               ELECTRONICS INSTRUMENTS   \n",
       "5) number of countries traded with                             133   \n",
       "\n",
       "year                                                          2020  \n",
       "1) commodity                                     OTHER COMMODITIES  \n",
       "1) number of countries traded with                             160  \n",
       "2) commodity                                        IRON AND STEEL  \n",
       "2) number of countries traded with                             155  \n",
       "3) commodity                        ALUMINIUM, PRODUCTS OF ALUMINM  \n",
       "3) number of countries traded with                             139  \n",
       "4) commodity                           INDL. MACHNRY FOR DAIRY ETC  \n",
       "4) number of countries traded with                             126  \n",
       "5) commodity                        COPPER AND PRDCTS MADE OF COPR  \n",
       "5) number of countries traded with                             124  "
      ]
     },
     "metadata": {},
     "output_type": "display_data"
    },
    {
     "data": {
      "text/markdown": [
       "<br>"
      ],
      "text/plain": [
       "<IPython.core.display.Markdown object>"
      ]
     },
     "metadata": {},
     "output_type": "display_data"
    },
    {
     "data": {
      "text/markdown": [
       "<h3>n.) Top 5 Export Commodities with Highest Positive Growth from 2015 to 2020</h3>"
      ],
      "text/plain": [
       "<IPython.core.display.Markdown object>"
      ]
     },
     "metadata": {},
     "output_type": "display_data"
    },
    {
     "data": {
      "text/html": [
       "<div>\n",
       "<style scoped>\n",
       "    .dataframe tbody tr th:only-of-type {\n",
       "        vertical-align: middle;\n",
       "    }\n",
       "\n",
       "    .dataframe tbody tr th {\n",
       "        vertical-align: top;\n",
       "    }\n",
       "\n",
       "    .dataframe thead th {\n",
       "        text-align: right;\n",
       "    }\n",
       "</style>\n",
       "<table border=\"1\" class=\"dataframe\">\n",
       "  <thead>\n",
       "    <tr style=\"text-align: right;\">\n",
       "      <th></th>\n",
       "      <th>commodity</th>\n",
       "      <th>gain</th>\n",
       "    </tr>\n",
       "  </thead>\n",
       "  <tbody>\n",
       "    <tr>\n",
       "      <th>1</th>\n",
       "      <td>ELECTRIC MACHINERY AND EQUIPME</td>\n",
       "      <td>4994.212</td>\n",
       "    </tr>\n",
       "    <tr>\n",
       "      <th>2</th>\n",
       "      <td>DRUG FORMULATIONS, BIOLOGICALS</td>\n",
       "      <td>4724.847</td>\n",
       "    </tr>\n",
       "    <tr>\n",
       "      <th>3</th>\n",
       "      <td>TELECOM INSTRUMENTS</td>\n",
       "      <td>3732.292</td>\n",
       "    </tr>\n",
       "    <tr>\n",
       "      <th>4</th>\n",
       "      <td>ORGANIC CHEMICALS</td>\n",
       "      <td>2955.666</td>\n",
       "    </tr>\n",
       "    <tr>\n",
       "      <th>5</th>\n",
       "      <td>ALUMINIUM, PRODUCTS OF ALUMINM</td>\n",
       "      <td>2255.418</td>\n",
       "    </tr>\n",
       "  </tbody>\n",
       "</table>\n",
       "</div>"
      ],
      "text/plain": [
       "                        commodity      gain\n",
       "1  ELECTRIC MACHINERY AND EQUIPME  4994.212\n",
       "2  DRUG FORMULATIONS, BIOLOGICALS  4724.847\n",
       "3             TELECOM INSTRUMENTS  3732.292\n",
       "4               ORGANIC CHEMICALS  2955.666\n",
       "5  ALUMINIUM, PRODUCTS OF ALUMINM  2255.418"
      ]
     },
     "metadata": {},
     "output_type": "display_data"
    },
    {
     "data": {
      "text/markdown": [
       "<br>"
      ],
      "text/plain": [
       "<IPython.core.display.Markdown object>"
      ]
     },
     "metadata": {},
     "output_type": "display_data"
    },
    {
     "data": {
      "text/markdown": [
       "<h3>o.) Top 5 Import Commodities with Highest Negative Growth from 2015 to 2020</h3>"
      ],
      "text/plain": [
       "<IPython.core.display.Markdown object>"
      ]
     },
     "metadata": {},
     "output_type": "display_data"
    },
    {
     "data": {
      "text/html": [
       "<div>\n",
       "<style scoped>\n",
       "    .dataframe tbody tr th:only-of-type {\n",
       "        vertical-align: middle;\n",
       "    }\n",
       "\n",
       "    .dataframe tbody tr th {\n",
       "        vertical-align: top;\n",
       "    }\n",
       "\n",
       "    .dataframe thead th {\n",
       "        text-align: right;\n",
       "    }\n",
       "</style>\n",
       "<table border=\"1\" class=\"dataframe\">\n",
       "  <thead>\n",
       "    <tr style=\"text-align: right;\">\n",
       "      <th></th>\n",
       "      <th>commodity</th>\n",
       "      <th>gain</th>\n",
       "    </tr>\n",
       "  </thead>\n",
       "  <tbody>\n",
       "    <tr>\n",
       "      <th>1</th>\n",
       "      <td>PETROLEUM: CRUDE</td>\n",
       "      <td>-13694.127</td>\n",
       "    </tr>\n",
       "    <tr>\n",
       "      <th>2</th>\n",
       "      <td>GOLD</td>\n",
       "      <td>-6177.507</td>\n",
       "    </tr>\n",
       "    <tr>\n",
       "      <th>3</th>\n",
       "      <td>OTHER COMMODITIES</td>\n",
       "      <td>-5754.052</td>\n",
       "    </tr>\n",
       "    <tr>\n",
       "      <th>4</th>\n",
       "      <td>BULK MINERALS AND ORES</td>\n",
       "      <td>-3643.457</td>\n",
       "    </tr>\n",
       "    <tr>\n",
       "      <th>5</th>\n",
       "      <td>SILVER</td>\n",
       "      <td>-1795.712</td>\n",
       "    </tr>\n",
       "  </tbody>\n",
       "</table>\n",
       "</div>"
      ],
      "text/plain": [
       "                commodity       gain\n",
       "1        PETROLEUM: CRUDE -13694.127\n",
       "2                    GOLD  -6177.507\n",
       "3       OTHER COMMODITIES  -5754.052\n",
       "4  BULK MINERALS AND ORES  -3643.457\n",
       "5                  SILVER  -1795.712"
      ]
     },
     "metadata": {},
     "output_type": "display_data"
    },
    {
     "data": {
      "text/markdown": [
       "<br>"
      ],
      "text/plain": [
       "<IPython.core.display.Markdown object>"
      ]
     },
     "metadata": {},
     "output_type": "display_data"
    }
   ],
   "source": [
    "#Top 5 Commodities Based on % of Imports\n",
    "j = topx(india_trade,'year','commodity','import value',5)\n",
    "display(Markdown('<h3>j.) Top 5 Commodities Based on % of Imports</h3>'),j.T,Markdown('<br>'))\n",
    "\n",
    "#Top 5 Commodities Based on % of Exports\n",
    "k = topx(india_trade,'year','commodity','export value',5)\n",
    "display(Markdown('<h3>k.) Top 5 Commodities Based on % of Exports</h3>'),k.T,Markdown('<br>'))\n",
    "\n",
    "#Top 5 Export Commodities based on number of Buyers\n",
    "l = count_x(india_trade,'year','commodity','export value',5)\n",
    "display(Markdown('<h3>l.) Top 5 Export Commodities based on number of Buyers</h3>'),l.T,Markdown('<br>'))\n",
    "\n",
    "#Top 5 Import Commodites based on number of Suppliers\n",
    "m = count_x(india_trade,'year','commodity','import value',5)\n",
    "display(Markdown('<h3>m.) Top 5 Import Commodites based on number of Suppliers</h3>'),m.T,Markdown('<br>'))\n",
    "\n",
    "#Top 5 Export Commodities with Highest Positive Growth from 2015 to 2020\n",
    "n = gain(india_trade,'year','commodity','export value',desc,5)\n",
    "display(Markdown('<h3>n.) Top 5 Export Commodities with Highest Positive Growth from 2015 to 2020</h3>')\\\n",
    "        ,n,Markdown('<br>'))\n",
    "\n",
    "#Top 5 Import Commodities with Highest Negative Growth from 2015 to 2020\n",
    "o = gain(india_trade,'year','commodity','import value',asc,5)\n",
    "display(Markdown('<h3>o.) Top 5 Import Commodities with Highest Negative Growth from 2015 to 2020</h3>')\\\n",
    "        ,o,Markdown('<br>'))"
   ]
  },
  {
   "cell_type": "markdown",
   "metadata": {},
   "source": [
    "# 7. Visualisation of Analysis\n",
    "We will plot some charts of the computation of our analysis to use in the analysis report"
   ]
  },
  {
   "cell_type": "code",
   "execution_count": 25,
   "metadata": {},
   "outputs": [
    {
     "data": {
      "image/png": "[encoded data removed]",
      "text/plain": [
       "<Figure size 432x288 with 1 Axes>"
      ]
     },
     "metadata": {
      "needs_background": "light"
     },
     "output_type": "display_data"
    },
    {
     "data": {
      "image/png": "[encoded data removed]",
      "text/plain": [
       "<Figure size 432x288 with 1 Axes>"
      ]
     },
     "metadata": {
      "needs_background": "light"
     },
     "output_type": "display_data"
    },
    {
     "data": {
      "image/png": "[encoded data removed]",
      "text/plain": [
       "<Figure size 432x288 with 1 Axes>"
      ]
     },
     "metadata": {
      "needs_background": "light"
     },
     "output_type": "display_data"
    },
    {
     "data": {
      "image/png": "[encoded data removed]",
      "text/plain": [
       "<Figure size 432x288 with 1 Axes>"
      ]
     },
     "metadata": {
      "needs_background": "light"
     },
     "output_type": "display_data"
    },
    {
     "data": {
      "image/png": "[encoded data removed]",
      "text/plain": [
       "<Figure size 432x288 with 1 Axes>"
      ]
     },
     "metadata": {
      "needs_background": "light"
     },
     "output_type": "display_data"
    },
    {
     "data": {
      "image/png": "[encoded data removed]",
      "text/plain": [
       "<Figure size 432x288 with 1 Axes>"
      ]
     },
     "metadata": {
      "needs_background": "light"
     },
     "output_type": "display_data"
    },
    {
     "data": {
      "image/png": "[encoded data removed]",
      "text/plain": [
       "<Figure size 432x288 with 1 Axes>"
      ]
     },
     "metadata": {
      "needs_background": "light"
     },
     "output_type": "display_data"
    },
    {
     "data": {
      "image/png": "[encoded data removed]",
      "text/plain": [
       "<Figure size 432x288 with 1 Axes>"
      ]
     },
     "metadata": {
      "needs_background": "light"
     },
     "output_type": "display_data"
    },
    {
     "data": {
      "image/png": "[encoded data removed]",
      "text/plain": [
       "<Figure size 432x288 with 1 Axes>"
      ]
     },
     "metadata": {
      "needs_background": "light"
     },
     "output_type": "display_data"
    },
    {
     "data": {
      "image/png": "[encoded data removed]",
      "text/plain": [
       "<Figure size 432x288 with 1 Axes>"
      ]
     },
     "metadata": {
      "needs_background": "light"
     },
     "output_type": "display_data"
    },
    {
     "data": {
      "image/png": "[encoded data removed]",
      "text/plain": [
       "<Figure size 432x288 with 1 Axes>"
      ]
     },
     "metadata": {
      "needs_background": "light"
     },
     "output_type": "display_data"
    },
    {
     "data": {
      "image/png": "[encoded data removed]",
      "text/plain": [
       "<Figure size 432x288 with 1 Axes>"
      ]
     },
     "metadata": {
      "needs_background": "light"
     },
     "output_type": "display_data"
    },
    {
     "data": {
      "image/png": "[encoded data removed]",
      "text/plain": [
       "<Figure size 432x288 with 1 Axes>"
      ]
     },
     "metadata": {
      "needs_background": "light"
     },
     "output_type": "display_data"
    },
    {
     "data": {
      "image/png": "[encoded data removed]",
      "text/plain": [
       "<Figure size 432x288 with 1 Axes>"
      ]
     },
     "metadata": {
      "needs_background": "light"
     },
     "output_type": "display_data"
    },
    {
     "data": {
      "image/png": "[encoded data removed]",
      "text/plain": [
       "<Figure size 432x288 with 1 Axes>"
      ]
     },
     "metadata": {
      "needs_background": "light"
     },
     "output_type": "display_data"
    },
    {
     "data": {
      "image/png": "[encoded data removed]",
      "text/plain": [
       "<Figure size 432x288 with 1 Axes>"
      ]
     },
     "metadata": {
      "needs_background": "light"
     },
     "output_type": "display_data"
    },
    {
     "data": {
      "image/png": "[encoded data removed]",
      "text/plain": [
       "<Figure size 432x288 with 1 Axes>"
      ]
     },
     "metadata": {
      "needs_background": "light"
     },
     "output_type": "display_data"
    },
    {
     "data": {
      "image/png": "[encoded data removed]",
      "text/plain": [
       "<Figure size 432x288 with 1 Axes>"
      ]
     },
     "metadata": {
      "needs_background": "light"
     },
     "output_type": "display_data"
    },
    {
     "data": {
      "image/png": "[encoded data removed]",
      "text/plain": [
       "<Figure size 432x288 with 1 Axes>"
      ]
     },
     "metadata": {
      "needs_background": "light"
     },
     "output_type": "display_data"
    },
    {
     "data": {
      "image/png": "[encoded data removed]",
      "text/plain": [
       "<Figure size 432x288 with 1 Axes>"
      ]
     },
     "metadata": {
      "needs_background": "light"
     },
     "output_type": "display_data"
    }
   ],
   "source": [
    "commodity_label = ('Commodity 1','Commodity 2','Commodity 3','Commodity 4','Commodity 5')\n",
    "country_label = ('country 1','country 2','country 3','country 4','country 5')\n",
    "\n",
    "#Annual Import Value\n",
    "a.plot.bar(y=['import value'], rot = 45)\n",
    "plt.xlabel('Year',size = 10)\n",
    "plt.ylabel('Imports (in US$ Millions)',size = 10)\n",
    "plt.legend(loc='center left', bbox_to_anchor=(1.0, 0.5))\n",
    "plt.axhline(color='k')\n",
    "plt.title('Annual Import Value', size = 15)\n",
    "plt.savefig('plots/a.png',bbox_inches='tight', transparent = True)\n",
    "\n",
    "#Annual Export Value and Change\n",
    "b.plot.bar(y=['export value'], rot = 45)\n",
    "plt.xlabel('Year',size = 10)\n",
    "plt.ylabel('Exports (in US$ Millions)',size = 10)\n",
    "plt.legend(loc='center left', bbox_to_anchor=(1.0, 0.5))\n",
    "plt.axhline(color='k')\n",
    "plt.title('Annual Export Value and Change', size = 15)\n",
    "plt.savefig('plots/b.png',bbox_inches='tight', transparent = True)\n",
    "\n",
    "#Annual Trade Balance\n",
    "c.plot.bar(y=['trade balance'], rot = 45)\n",
    "plt.xlabel('Year',size = 10)\n",
    "plt.ylabel('Trade Balance (in US$ Millions)',size = 10)\n",
    "plt.legend(loc='center left', bbox_to_anchor=(1.0, 0.5))\n",
    "plt.axhline(color='k')\n",
    "plt.title('Annual Trade Balance', size = 15)\n",
    "plt.savefig('plots/c.png',bbox_inches='tight', transparent = True)\n",
    "\n",
    "#Annual Import Value Change\n",
    "a.plot.line(y='% change in import value', rot = 45)\n",
    "plt.xlabel('Year',size = 10)\n",
    "plt.ylabel('% Change',size = 10)\n",
    "plt.legend(loc='center left', bbox_to_anchor=(1.0, 0.5))\n",
    "plt.title('Annual Import Value Change', size = 15)\n",
    "plt.xticks(np.arange(2015, 2021, 1.0))\n",
    "plt.axhline(color='k')\n",
    "plt.savefig('plots/d.png',bbox_inches='tight', transparent = True)\n",
    "\n",
    "#Annual Export Value Change\n",
    "b.plot.line(y='% change in export value', rot = 45)\n",
    "plt.xlabel('Year',size = 10)\n",
    "plt.ylabel('% Change',size = 10)\n",
    "plt.legend(loc='center left', bbox_to_anchor=(1.0, 0.5))\n",
    "plt.title('Annual Export Value Change', size = 15)\n",
    "plt.xticks(np.arange(2015, 2021, 1.0))\n",
    "plt.axhline(color='k')\n",
    "plt.savefig('plots/e.png',bbox_inches='tight', transparent = True)\n",
    "\n",
    "#Annual Trade Balance Change\n",
    "c.plot.line(y='% change in trade balance', rot = 45)\n",
    "plt.xlabel('Year',size = 10)\n",
    "plt.ylabel('% Change',size = 10)\n",
    "plt.legend(loc='center left', bbox_to_anchor=(1.0, 0.5))\n",
    "plt.xticks(np.arange(2015, 2021, 1.0))\n",
    "plt.title('Annual Trade Balance Change', size = 15)\n",
    "plt.axhline(color='k')\n",
    "plt.savefig('plots/f.png',bbox_inches='tight', transparent = True)\n",
    "\n",
    "#Combined Annual Import, Export & Trade Balance\n",
    "p = merge(a,b,left_index=True,right_index=True)\n",
    "p = merge(p,c,left_index=True,right_index=True)\n",
    "p.plot.bar(y=['import value', 'export value','trade balance'], rot = 45)\n",
    "plt.xlabel('Year',size = 10)\n",
    "plt.ylabel('Trade Value (in US$ Millions)',size = 10)\n",
    "plt.legend(loc='center left', bbox_to_anchor=(1.0, 0.5))\n",
    "plt.axhline(color='k')\n",
    "plt.title('Combined Annual Import, Export & Trade Balance', size = 15)\n",
    "plt.savefig('plots/g.png',bbox_inches='tight', transparent = True)\n",
    "\n",
    "#Change in Annual Import, Export & Trade Balance\n",
    "p.plot.line(y=['% change in import value', '% change in export value', '% change in trade balance'], rot = 45)\n",
    "plt.xlabel('Year',size = 10)\n",
    "plt.ylabel('US$ Millions',size = 10)\n",
    "plt.legend(loc='center left', bbox_to_anchor=(1.0, 0.5))\n",
    "plt.axhline(color='k')\n",
    "plt.xticks(np.arange(2015, 2021, 1.0))\n",
    "plt.title('Change in Annual Import, Export & Trade Balance', size = 15)\n",
    "plt.savefig('plots/h.png',bbox_inches='tight', transparent = True)\n",
    "\n",
    "#Top 5 Sellers Based on % of Imports\n",
    "d.plot.line(y = d.columns, rot = 45)\n",
    "plt.xlabel('Year',size = 10)\n",
    "plt.ylabel('% of Total Import',size = 10)\n",
    "plt.legend(loc='center left', bbox_to_anchor=(1.0, 0.5), labels = country_label, title = 'Top 5 Countries')\n",
    "plt.axhline(color='k')\n",
    "plt.title('Trend of Top 5 Sellers Based on % of Imports',size = 15)\n",
    "plt.savefig('plots/i.png',bbox_inches='tight', transparent = True)\n",
    "\n",
    "#Top 5 Buyers Based on % of Exports\n",
    "e.plot.line(y = e.columns, rot = 45)\n",
    "plt.xlabel('Year',size = 10)\n",
    "plt.ylabel('% of Total Export',size = 10)\n",
    "plt.legend(loc='center left', bbox_to_anchor=(1.0, 0.5), labels = country_label, title = 'Top 5 Countries')\n",
    "plt.axhline(color='k')\n",
    "plt.title('Trend of Top 5 Buyers Based on % of Exports',size = 15)\n",
    "plt.savefig('plots/j.png',bbox_inches='tight', transparent = True)\n",
    "\n",
    "#Top 5 Buyers based on number of Commodities Exported\n",
    "f.plot.bar(y = f.columns, rot = 45)\n",
    "plt.xlabel('Year',size = 10)\n",
    "plt.ylabel('Number of Buyers',size = 10)\n",
    "plt.legend(loc='center left', bbox_to_anchor=(1.0, 0.5), labels = country_label, title = 'Top 5 Countries')\n",
    "plt.axhline(color='k')\n",
    "plt.title('Top 5 Buyers based on number of Commodities Exported',size = 15)\n",
    "plt.savefig('plots/k.png',bbox_inches='tight', transparent = True)\n",
    "\n",
    "\n",
    "#Top 5 Suppliers based on number of Commodities Imported\n",
    "g.plot.bar(y = g.columns, rot = 45)\n",
    "plt.xlabel('Year',size = 10)\n",
    "plt.ylabel('Number of Supplies',size = 10)\n",
    "plt.legend(loc='center left', bbox_to_anchor=(1.0, 0.5), labels = country_label, title = 'Top 5 Countries')\n",
    "plt.axhline(color='k')\n",
    "plt.title('Top 5 Suppliers based on number of Commodities Imported',size = 15)\n",
    "plt.savefig('plots/l.png',bbox_inches='tight', transparent = True)\n",
    "\n",
    "#Top 5 Buyers with Highest Positive Growth from 2015 to 2020\n",
    "h.plot.bar(x = 'country',y=['gain'], rot = 15)\n",
    "plt.xlabel('Country',size = 10)\n",
    "plt.ylabel('+ve Growth (in US$ Millions)',size = 10)\n",
    "plt.legend(loc='center left',labels = ['positive growth'], bbox_to_anchor=(1.0, 0.5))\n",
    "plt.axhline(color='k')\n",
    "plt.title('Top 5 buyers with highest positive growth', size = 15)\n",
    "plt.savefig('plots/m.png',bbox_inches='tight', transparent = True)\n",
    "\n",
    "#Top 5 Sellers with Highest Negative Growth from 2015 to 2020\n",
    "i.plot.bar(x = 'country',y=['gain'], rot = 15)\n",
    "plt.xlabel('Country',size = 10)\n",
    "plt.ylabel('-ve Growth (in US$ Millions)',size = 10)\n",
    "plt.legend(loc='center left',labels = ['negative growth'], bbox_to_anchor=(1.0, 0.5))\n",
    "plt.axhline(color='k')\n",
    "plt.title('Top 5 Sellers with highest negative growth', size = 15)\n",
    "plt.savefig('plots/n.png',bbox_inches='tight', transparent = True)\n",
    "\n",
    "#Top 5 Commodities Based on % of Imports\n",
    "j.plot.line(y = j.columns, rot = 45)\n",
    "plt.xlabel('Year',size = 10)\n",
    "plt.ylabel('% of Total Import',size = 10)\n",
    "plt.legend(loc='center left', bbox_to_anchor=(1.0, 0.5), labels = commodity_label, title = 'Top 5 Commodities')\n",
    "plt.axhline(color='k')\n",
    "plt.title('Trend of Top 5 Commodities Based on % of Imports',size = 15)\n",
    "plt.savefig('plots/i.png',bbox_inches='tight', transparent = True)\n",
    "\n",
    "\n",
    "#Top 5 Commodities Based on % of Exports\n",
    "k.plot.line(y = k.columns, rot = 45)\n",
    "plt.xlabel('Year',size = 10)\n",
    "plt.ylabel('% of Total Export',size = 10)\n",
    "plt.legend(loc='center left', bbox_to_anchor=(1.0, 0.5), labels = commodity_label, title = 'Top 5 Commodities')\n",
    "plt.axhline(color='k')\n",
    "plt.title('Trend of Top 5 Commodities Based on % of Exports',size = 15)\n",
    "plt.savefig('plots/j.png',bbox_inches='tight', transparent = True)\n",
    "\n",
    "\n",
    "#Top 5 Export Commodities based on number of Buyers\n",
    "l.plot.bar(y = l.columns, rot = 45)\n",
    "plt.xlabel('Year',size = 10)\n",
    "plt.ylabel('Number of Buyers',size = 10)\n",
    "plt.legend(loc='center left', bbox_to_anchor=(1.0, 0.5), labels = commodity_label, title = 'Top 5 Commodities')\n",
    "plt.axhline(color='k')\n",
    "plt.title('Top 5 Export Commodities based on number of Buyers',size = 15)\n",
    "plt.savefig('plots/k.png',bbox_inches='tight', transparent = True)\n",
    "\n",
    "#Top 5 Import Commodites based on number of Suppliers\n",
    "m.plot.bar(y = m.columns, rot = 45)\n",
    "plt.xlabel('Year',size = 10)\n",
    "plt.ylabel('Number of Suppliers',size = 10)\n",
    "plt.legend(loc='center left', bbox_to_anchor=(1.0, 0.5), labels = commodity_label, title = 'Top 5 Countries')\n",
    "plt.axhline(color='k')\n",
    "plt.title('Top 5 Import Commodites based on number of Suppliers',size = 15)\n",
    "plt.savefig('plots/l.png',bbox_inches='tight', transparent = True)\n",
    "\n",
    "#Top 5 Export Commodities with Highest Positive Growth from 2015 to 2020\n",
    "ax = n.plot.bar(x = 'commodity',y=['gain'], rot = 60)\n",
    "max_chars = 10\n",
    "new_labels = ['\\n'.join(label._text[i:i + max_chars ] \n",
    "                        for i in range(0, len(label._text), max_chars ))\n",
    "              for label in ax.get_xticklabels()]\n",
    "ax.set_xticklabels(new_labels)\n",
    "plt.xlabel('Commodity',size = 10)\n",
    "plt.ylabel('+ve Growth (in US$ Millions)',size = 10)\n",
    "plt.legend(loc='center left',labels = ['positive growth'], bbox_to_anchor=(1.0, 0.5))\n",
    "plt.axhline(color='k')\n",
    "plt.title('Top 5 Export Commodities with highest positive growth', size = 15)\n",
    "plt.savefig('plots/o.png',bbox_inches='tight', transparent = True)\n",
    "\n",
    "\n",
    "#Top 5 Import Commodities with Highest Negative Growth from 2015 to 2020\n",
    "ax = o.plot.bar(x = 'commodity',y=['gain'], rot = 60)\n",
    "max_chars = 10\n",
    "new_labels = ['\\n'.join(label._text[i:i + max_chars ] \n",
    "                        for i in range(0, len(label._text), max_chars ))\n",
    "              for label in ax.get_xticklabels()]\n",
    "ax.set_xticklabels(new_labels)\n",
    "plt.xlabel('Commodity',size = 10)\n",
    "plt.ylabel('-ve Growth (in US$ Millions)',size = 10)\n",
    "plt.legend(loc='center left',labels = ['negative growth'], bbox_to_anchor=(1.0, 0.5))\n",
    "plt.axhline(color='k')\n",
    "plt.title('Top 5 Import Commodities with highest negative growth', size = 15)\n",
    "plt.savefig('plots/p.png',bbox_inches='tight', transparent = True)"
   ]
  }
 ],
 "metadata": {
  "kernelspec": {
   "display_name": "Python 3",
   "language": "python",
   "name": "python3"
  },
  "language_info": {
   "codemirror_mode": {
    "name": "ipython",
    "version": 3
   },
   "file_extension": ".py",
   "mimetype": "text/x-python",
   "name": "python",
   "nbconvert_exporter": "python",
   "pygments_lexer": "ipython3",
   "version": "3.8.5"
  }
 },
 "nbformat": 4,
 "nbformat_minor": 5
}
